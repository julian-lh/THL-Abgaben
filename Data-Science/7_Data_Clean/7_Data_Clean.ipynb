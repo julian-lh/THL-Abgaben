{
 "cells": [
  {
   "attachments": {},
   "cell_type": "markdown",
   "metadata": {},
   "source": [
    "# Data Cleaning and Statistic Excercise\n",
    "Julian Lopes Hinz, SoSe 2023"
   ]
  },
  {
   "attachments": {},
   "cell_type": "markdown",
   "metadata": {},
   "source": [
    "### Import Data"
   ]
  },
  {
   "cell_type": "code",
   "execution_count": 75,
   "metadata": {},
   "outputs": [],
   "source": [
    "url_patient_info = \"https://raw.githubusercontent.com/WHPAN0108/BHT-DataScience-S23/main/data_clean/data/patient_info.csv\"\n",
    "url_hospital_visit = \"https://raw.githubusercontent.com/WHPAN0108/BHT-DataScience-S23/main/data_clean/data/date.csv\""
   ]
  },
  {
   "cell_type": "code",
   "execution_count": 76,
   "metadata": {},
   "outputs": [],
   "source": [
    "import pandas as pd\n",
    "df_patient = pd.read_csv(url_patient_info)\n",
    "df_hospital = pd.read_csv(url_hospital_visit)"
   ]
  },
  {
   "attachments": {},
   "cell_type": "markdown",
   "metadata": {},
   "source": [
    "### Inspect Data"
   ]
  },
  {
   "cell_type": "code",
   "execution_count": 77,
   "metadata": {},
   "outputs": [
    {
     "data": {
      "text/html": [
       "<div>\n",
       "<style scoped>\n",
       "    .dataframe tbody tr th:only-of-type {\n",
       "        vertical-align: middle;\n",
       "    }\n",
       "\n",
       "    .dataframe tbody tr th {\n",
       "        vertical-align: top;\n",
       "    }\n",
       "\n",
       "    .dataframe thead th {\n",
       "        text-align: right;\n",
       "    }\n",
       "</style>\n",
       "<table border=\"1\" class=\"dataframe\">\n",
       "  <thead>\n",
       "    <tr style=\"text-align: right;\">\n",
       "      <th></th>\n",
       "      <th>Participant_ID</th>\n",
       "      <th>Sex</th>\n",
       "      <th>Age</th>\n",
       "      <th>Smoking_status</th>\n",
       "      <th>BMI</th>\n",
       "      <th>Disease</th>\n",
       "    </tr>\n",
       "  </thead>\n",
       "  <tbody>\n",
       "    <tr>\n",
       "      <th>0</th>\n",
       "      <td>1003300</td>\n",
       "      <td>Male</td>\n",
       "      <td>62</td>\n",
       "      <td>Previous</td>\n",
       "      <td>33.7597</td>\n",
       "      <td>2</td>\n",
       "    </tr>\n",
       "    <tr>\n",
       "      <th>1</th>\n",
       "      <td>1004025</td>\n",
       "      <td>Male</td>\n",
       "      <td>60</td>\n",
       "      <td>Previous</td>\n",
       "      <td>28.1173</td>\n",
       "      <td>1</td>\n",
       "    </tr>\n",
       "    <tr>\n",
       "      <th>2</th>\n",
       "      <td>1005551</td>\n",
       "      <td>Male</td>\n",
       "      <td>69</td>\n",
       "      <td>Previous</td>\n",
       "      <td>26.4159</td>\n",
       "      <td>2</td>\n",
       "    </tr>\n",
       "    <tr>\n",
       "      <th>3</th>\n",
       "      <td>1005594</td>\n",
       "      <td>Male</td>\n",
       "      <td>64</td>\n",
       "      <td>Previous</td>\n",
       "      <td>24.7550</td>\n",
       "      <td>1</td>\n",
       "    </tr>\n",
       "    <tr>\n",
       "      <th>4</th>\n",
       "      <td>1005624</td>\n",
       "      <td>Male</td>\n",
       "      <td>64</td>\n",
       "      <td>Previous</td>\n",
       "      <td>35.0773</td>\n",
       "      <td>2</td>\n",
       "    </tr>\n",
       "    <tr>\n",
       "      <th>...</th>\n",
       "      <td>...</td>\n",
       "      <td>...</td>\n",
       "      <td>...</td>\n",
       "      <td>...</td>\n",
       "      <td>...</td>\n",
       "      <td>...</td>\n",
       "    </tr>\n",
       "    <tr>\n",
       "      <th>95</th>\n",
       "      <td>1260244</td>\n",
       "      <td>Male</td>\n",
       "      <td>64</td>\n",
       "      <td>Previous</td>\n",
       "      <td>26.0951</td>\n",
       "      <td>2</td>\n",
       "    </tr>\n",
       "    <tr>\n",
       "      <th>96</th>\n",
       "      <td>1264270</td>\n",
       "      <td>Male</td>\n",
       "      <td>69</td>\n",
       "      <td>Never</td>\n",
       "      <td>24.8033</td>\n",
       "      <td>2</td>\n",
       "    </tr>\n",
       "    <tr>\n",
       "      <th>97</th>\n",
       "      <td>1274970</td>\n",
       "      <td>Female</td>\n",
       "      <td>56</td>\n",
       "      <td>Never</td>\n",
       "      <td>37.5391</td>\n",
       "      <td>2</td>\n",
       "    </tr>\n",
       "    <tr>\n",
       "      <th>98</th>\n",
       "      <td>1275182</td>\n",
       "      <td>Male</td>\n",
       "      <td>61</td>\n",
       "      <td>Never</td>\n",
       "      <td>26.9638</td>\n",
       "      <td>2</td>\n",
       "    </tr>\n",
       "    <tr>\n",
       "      <th>99</th>\n",
       "      <td>1275331</td>\n",
       "      <td>Male</td>\n",
       "      <td>63</td>\n",
       "      <td>Previous</td>\n",
       "      <td>29.9041</td>\n",
       "      <td>2</td>\n",
       "    </tr>\n",
       "  </tbody>\n",
       "</table>\n",
       "<p>100 rows × 6 columns</p>\n",
       "</div>"
      ],
      "text/plain": [
       "    Participant_ID     Sex  Age Smoking_status      BMI  Disease\n",
       "0          1003300    Male   62       Previous  33.7597        2\n",
       "1          1004025    Male   60       Previous  28.1173        1\n",
       "2          1005551    Male   69       Previous  26.4159        2\n",
       "3          1005594    Male   64       Previous  24.7550        1\n",
       "4          1005624    Male   64       Previous  35.0773        2\n",
       "..             ...     ...  ...            ...      ...      ...\n",
       "95         1260244    Male   64       Previous  26.0951        2\n",
       "96         1264270    Male   69          Never  24.8033        2\n",
       "97         1274970  Female   56          Never  37.5391        2\n",
       "98         1275182    Male   61          Never  26.9638        2\n",
       "99         1275331    Male   63       Previous  29.9041        2\n",
       "\n",
       "[100 rows x 6 columns]"
      ]
     },
     "execution_count": 77,
     "metadata": {},
     "output_type": "execute_result"
    }
   ],
   "source": [
    "df_patient.head(100)\n"
   ]
  },
  {
   "cell_type": "code",
   "execution_count": 78,
   "metadata": {},
   "outputs": [
    {
     "data": {
      "text/html": [
       "<div>\n",
       "<style scoped>\n",
       "    .dataframe tbody tr th:only-of-type {\n",
       "        vertical-align: middle;\n",
       "    }\n",
       "\n",
       "    .dataframe tbody tr th {\n",
       "        vertical-align: top;\n",
       "    }\n",
       "\n",
       "    .dataframe thead th {\n",
       "        text-align: right;\n",
       "    }\n",
       "</style>\n",
       "<table border=\"1\" class=\"dataframe\">\n",
       "  <thead>\n",
       "    <tr style=\"text-align: right;\">\n",
       "      <th></th>\n",
       "      <th>Participant_ID</th>\n",
       "      <th>VisitDate</th>\n",
       "    </tr>\n",
       "  </thead>\n",
       "  <tbody>\n",
       "    <tr>\n",
       "      <th>0</th>\n",
       "      <td>1003300</td>\n",
       "      <td>1/7/2022</td>\n",
       "    </tr>\n",
       "    <tr>\n",
       "      <th>1</th>\n",
       "      <td>1003300</td>\n",
       "      <td>27/10/2021</td>\n",
       "    </tr>\n",
       "    <tr>\n",
       "      <th>2</th>\n",
       "      <td>1004025</td>\n",
       "      <td>19/05/2010</td>\n",
       "    </tr>\n",
       "    <tr>\n",
       "      <th>3</th>\n",
       "      <td>1005551</td>\n",
       "      <td>25/08/2021</td>\n",
       "    </tr>\n",
       "    <tr>\n",
       "      <th>4</th>\n",
       "      <td>1005551</td>\n",
       "      <td>29/06/2021</td>\n",
       "    </tr>\n",
       "    <tr>\n",
       "      <th>...</th>\n",
       "      <td>...</td>\n",
       "      <td>...</td>\n",
       "    </tr>\n",
       "    <tr>\n",
       "      <th>95</th>\n",
       "      <td>1209201</td>\n",
       "      <td>5/7/2019</td>\n",
       "    </tr>\n",
       "    <tr>\n",
       "      <th>96</th>\n",
       "      <td>1209201</td>\n",
       "      <td>6/8/2019</td>\n",
       "    </tr>\n",
       "    <tr>\n",
       "      <th>97</th>\n",
       "      <td>1212237</td>\n",
       "      <td>30/06/2015</td>\n",
       "    </tr>\n",
       "    <tr>\n",
       "      <th>98</th>\n",
       "      <td>1215978</td>\n",
       "      <td>13/02/2018</td>\n",
       "    </tr>\n",
       "    <tr>\n",
       "      <th>99</th>\n",
       "      <td>1219102</td>\n",
       "      <td>11/7/2011</td>\n",
       "    </tr>\n",
       "  </tbody>\n",
       "</table>\n",
       "<p>100 rows × 2 columns</p>\n",
       "</div>"
      ],
      "text/plain": [
       "    Participant_ID   VisitDate\n",
       "0          1003300    1/7/2022\n",
       "1          1003300  27/10/2021\n",
       "2          1004025  19/05/2010\n",
       "3          1005551  25/08/2021\n",
       "4          1005551  29/06/2021\n",
       "..             ...         ...\n",
       "95         1209201    5/7/2019\n",
       "96         1209201    6/8/2019\n",
       "97         1212237  30/06/2015\n",
       "98         1215978  13/02/2018\n",
       "99         1219102   11/7/2011\n",
       "\n",
       "[100 rows x 2 columns]"
      ]
     },
     "execution_count": 78,
     "metadata": {},
     "output_type": "execute_result"
    }
   ],
   "source": [
    "df_hospital.head(100)"
   ]
  },
  {
   "cell_type": "code",
   "execution_count": 79,
   "metadata": {},
   "outputs": [
    {
     "name": "stdout",
     "output_type": "stream",
     "text": [
      "<class 'pandas.core.frame.DataFrame'>\n",
      "RangeIndex: 2218 entries, 0 to 2217\n",
      "Data columns (total 6 columns):\n",
      " #   Column          Non-Null Count  Dtype  \n",
      "---  ------          --------------  -----  \n",
      " 0   Participant_ID  2218 non-null   int64  \n",
      " 1   Sex             2218 non-null   object \n",
      " 2   Age             2218 non-null   int64  \n",
      " 3   Smoking_status  2215 non-null   object \n",
      " 4   BMI             2199 non-null   float64\n",
      " 5   Disease         2218 non-null   int64  \n",
      "dtypes: float64(1), int64(3), object(2)\n",
      "memory usage: 104.1+ KB\n"
     ]
    }
   ],
   "source": [
    "df_patient.info()"
   ]
  },
  {
   "cell_type": "code",
   "execution_count": 80,
   "metadata": {},
   "outputs": [
    {
     "name": "stdout",
     "output_type": "stream",
     "text": [
      "<class 'pandas.core.frame.DataFrame'>\n",
      "RangeIndex: 2891 entries, 0 to 2890\n",
      "Data columns (total 2 columns):\n",
      " #   Column          Non-Null Count  Dtype \n",
      "---  ------          --------------  ----- \n",
      " 0   Participant_ID  2891 non-null   int64 \n",
      " 1   VisitDate       2807 non-null   object\n",
      "dtypes: int64(1), object(1)\n",
      "memory usage: 45.3+ KB\n"
     ]
    }
   ],
   "source": [
    "df_hospital.info()"
   ]
  },
  {
   "cell_type": "code",
   "execution_count": 81,
   "metadata": {},
   "outputs": [
    {
     "data": {
      "text/html": [
       "<div>\n",
       "<style scoped>\n",
       "    .dataframe tbody tr th:only-of-type {\n",
       "        vertical-align: middle;\n",
       "    }\n",
       "\n",
       "    .dataframe tbody tr th {\n",
       "        vertical-align: top;\n",
       "    }\n",
       "\n",
       "    .dataframe thead th {\n",
       "        text-align: right;\n",
       "    }\n",
       "</style>\n",
       "<table border=\"1\" class=\"dataframe\">\n",
       "  <thead>\n",
       "    <tr style=\"text-align: right;\">\n",
       "      <th></th>\n",
       "      <th>Participant_ID</th>\n",
       "      <th>Age</th>\n",
       "      <th>BMI</th>\n",
       "      <th>Disease</th>\n",
       "    </tr>\n",
       "  </thead>\n",
       "  <tbody>\n",
       "    <tr>\n",
       "      <th>count</th>\n",
       "      <td>2.218000e+03</td>\n",
       "      <td>2218.000000</td>\n",
       "      <td>2199.000000</td>\n",
       "      <td>2218.000000</td>\n",
       "    </tr>\n",
       "    <tr>\n",
       "      <th>mean</th>\n",
       "      <td>3.556678e+06</td>\n",
       "      <td>61.470694</td>\n",
       "      <td>29.083625</td>\n",
       "      <td>1.744815</td>\n",
       "    </tr>\n",
       "    <tr>\n",
       "      <th>std</th>\n",
       "      <td>1.426639e+06</td>\n",
       "      <td>6.687583</td>\n",
       "      <td>5.576693</td>\n",
       "      <td>0.436063</td>\n",
       "    </tr>\n",
       "    <tr>\n",
       "      <th>min</th>\n",
       "      <td>1.003300e+06</td>\n",
       "      <td>6.000000</td>\n",
       "      <td>-31.413300</td>\n",
       "      <td>1.000000</td>\n",
       "    </tr>\n",
       "    <tr>\n",
       "      <th>25%</th>\n",
       "      <td>2.337478e+06</td>\n",
       "      <td>58.000000</td>\n",
       "      <td>25.512250</td>\n",
       "      <td>1.000000</td>\n",
       "    </tr>\n",
       "    <tr>\n",
       "      <th>50%</th>\n",
       "      <td>3.591072e+06</td>\n",
       "      <td>63.000000</td>\n",
       "      <td>28.183200</td>\n",
       "      <td>2.000000</td>\n",
       "    </tr>\n",
       "    <tr>\n",
       "      <th>75%</th>\n",
       "      <td>4.774338e+06</td>\n",
       "      <td>67.000000</td>\n",
       "      <td>32.015200</td>\n",
       "      <td>2.000000</td>\n",
       "    </tr>\n",
       "    <tr>\n",
       "      <th>max</th>\n",
       "      <td>6.020094e+06</td>\n",
       "      <td>70.000000</td>\n",
       "      <td>100.357000</td>\n",
       "      <td>2.000000</td>\n",
       "    </tr>\n",
       "  </tbody>\n",
       "</table>\n",
       "</div>"
      ],
      "text/plain": [
       "       Participant_ID          Age          BMI      Disease\n",
       "count    2.218000e+03  2218.000000  2199.000000  2218.000000\n",
       "mean     3.556678e+06    61.470694    29.083625     1.744815\n",
       "std      1.426639e+06     6.687583     5.576693     0.436063\n",
       "min      1.003300e+06     6.000000   -31.413300     1.000000\n",
       "25%      2.337478e+06    58.000000    25.512250     1.000000\n",
       "50%      3.591072e+06    63.000000    28.183200     2.000000\n",
       "75%      4.774338e+06    67.000000    32.015200     2.000000\n",
       "max      6.020094e+06    70.000000   100.357000     2.000000"
      ]
     },
     "execution_count": 81,
     "metadata": {},
     "output_type": "execute_result"
    }
   ],
   "source": [
    "df_patient.describe()"
   ]
  },
  {
   "cell_type": "code",
   "execution_count": 82,
   "metadata": {},
   "outputs": [
    {
     "data": {
      "text/html": [
       "<div>\n",
       "<style scoped>\n",
       "    .dataframe tbody tr th:only-of-type {\n",
       "        vertical-align: middle;\n",
       "    }\n",
       "\n",
       "    .dataframe tbody tr th {\n",
       "        vertical-align: top;\n",
       "    }\n",
       "\n",
       "    .dataframe thead th {\n",
       "        text-align: right;\n",
       "    }\n",
       "</style>\n",
       "<table border=\"1\" class=\"dataframe\">\n",
       "  <thead>\n",
       "    <tr style=\"text-align: right;\">\n",
       "      <th></th>\n",
       "      <th>Participant_ID</th>\n",
       "    </tr>\n",
       "  </thead>\n",
       "  <tbody>\n",
       "    <tr>\n",
       "      <th>count</th>\n",
       "      <td>2.891000e+03</td>\n",
       "    </tr>\n",
       "    <tr>\n",
       "      <th>mean</th>\n",
       "      <td>3.571763e+06</td>\n",
       "    </tr>\n",
       "    <tr>\n",
       "      <th>std</th>\n",
       "      <td>1.429753e+06</td>\n",
       "    </tr>\n",
       "    <tr>\n",
       "      <th>min</th>\n",
       "      <td>1.003300e+06</td>\n",
       "    </tr>\n",
       "    <tr>\n",
       "      <th>25%</th>\n",
       "      <td>2.355413e+06</td>\n",
       "    </tr>\n",
       "    <tr>\n",
       "      <th>50%</th>\n",
       "      <td>3.597002e+06</td>\n",
       "    </tr>\n",
       "    <tr>\n",
       "      <th>75%</th>\n",
       "      <td>4.818746e+06</td>\n",
       "    </tr>\n",
       "    <tr>\n",
       "      <th>max</th>\n",
       "      <td>6.020094e+06</td>\n",
       "    </tr>\n",
       "  </tbody>\n",
       "</table>\n",
       "</div>"
      ],
      "text/plain": [
       "       Participant_ID\n",
       "count    2.891000e+03\n",
       "mean     3.571763e+06\n",
       "std      1.429753e+06\n",
       "min      1.003300e+06\n",
       "25%      2.355413e+06\n",
       "50%      3.597002e+06\n",
       "75%      4.818746e+06\n",
       "max      6.020094e+06"
      ]
     },
     "execution_count": 82,
     "metadata": {},
     "output_type": "execute_result"
    }
   ],
   "source": [
    "df_hospital.describe()"
   ]
  },
  {
   "cell_type": "code",
   "execution_count": 83,
   "metadata": {},
   "outputs": [
    {
     "data": {
      "text/plain": [
       "Participant_ID    2218\n",
       "Sex               2218\n",
       "Age               2218\n",
       "Smoking_status    2215\n",
       "BMI               2199\n",
       "Disease           2218\n",
       "dtype: int64"
      ]
     },
     "execution_count": 83,
     "metadata": {},
     "output_type": "execute_result"
    }
   ],
   "source": [
    "df_patient.count()"
   ]
  },
  {
   "cell_type": "code",
   "execution_count": 84,
   "metadata": {},
   "outputs": [
    {
     "data": {
      "text/plain": [
       "Participant_ID    2891\n",
       "VisitDate         2807\n",
       "dtype: int64"
      ]
     },
     "execution_count": 84,
     "metadata": {},
     "output_type": "execute_result"
    }
   ],
   "source": [
    "df_hospital.count()"
   ]
  },
  {
   "cell_type": "code",
   "execution_count": 85,
   "metadata": {},
   "outputs": [
    {
     "data": {
      "text/plain": [
       "Participant_ID     0\n",
       "Sex                0\n",
       "Age                0\n",
       "Smoking_status     3\n",
       "BMI               19\n",
       "Disease            0\n",
       "dtype: int64"
      ]
     },
     "execution_count": 85,
     "metadata": {},
     "output_type": "execute_result"
    }
   ],
   "source": [
    "df_patient.isna().sum()"
   ]
  },
  {
   "attachments": {},
   "cell_type": "markdown",
   "metadata": {},
   "source": [
    "---"
   ]
  },
  {
   "attachments": {},
   "cell_type": "markdown",
   "metadata": {},
   "source": [
    "# Data Clean"
   ]
  },
  {
   "attachments": {},
   "cell_type": "markdown",
   "metadata": {},
   "source": [
    "### 1. The missing value from BMI can be replaced with the mean value of  its regarding gender\n"
   ]
  },
  {
   "cell_type": "code",
   "execution_count": 86,
   "metadata": {},
   "outputs": [
    {
     "name": "stdout",
     "output_type": "stream",
     "text": [
      "Sex\n",
      "Female    29.061755\n",
      "Male      29.092445\n",
      "Name: BMI, dtype: float64\n"
     ]
    }
   ],
   "source": [
    "mean_bmi_by_gender = df_patient.groupby('Sex')['BMI'].mean()\n",
    "print(mean_bmi_by_gender)\n",
    "\n",
    "df_patient['BMI'] = df_patient.apply(lambda row: mean_bmi_by_gender[row['Sex']] if pd.isnull(row['BMI']) else row['BMI'], axis=1)\n",
    "\n",
    "\n",
    "# Remove all na from smpking status:\n",
    "df_patient.dropna(subset=['Smoking_status'], inplace=True)"
   ]
  },
  {
   "cell_type": "code",
   "execution_count": 87,
   "metadata": {},
   "outputs": [
    {
     "data": {
      "text/plain": [
       "Participant_ID    2215\n",
       "Sex               2215\n",
       "Age               2215\n",
       "Smoking_status    2215\n",
       "BMI               2215\n",
       "Disease           2215\n",
       "dtype: int64"
      ]
     },
     "execution_count": 87,
     "metadata": {},
     "output_type": "execute_result"
    }
   ],
   "source": [
    "df_patient.count()"
   ]
  },
  {
   "cell_type": "code",
   "execution_count": 88,
   "metadata": {},
   "outputs": [
    {
     "data": {
      "text/plain": [
       "Participant_ID    0\n",
       "Sex               0\n",
       "Age               0\n",
       "Smoking_status    0\n",
       "BMI               0\n",
       "Disease           0\n",
       "dtype: int64"
      ]
     },
     "execution_count": 88,
     "metadata": {},
     "output_type": "execute_result"
    }
   ],
   "source": [
    "df_patient.isna().sum()"
   ]
  },
  {
   "attachments": {},
   "cell_type": "markdown",
   "metadata": {},
   "source": [
    "### 2. Do the sanity check for all the columns in 2 files, and remove the sample which does not pass the sanity check\n",
    "\n",
    "Patient_information:  \n",
    "\n",
    "Patient_ID: numeric the patient id with 7 digits  \n",
    "Sex: string Male or Female  \n",
    "Age: numeric The Age of recruitment  \n",
    "BMI: numeric Body Mass Index, should be between 15-60  \n",
    "Smoking_status: string Never, Previous, current, Prefer not to answer  \n",
    "Disease: factor 1 means disease, 2 means healthy  \n",
    "\n",
    "Hosptial Visit:  \n",
    "\n",
    "Patient_ID: numeric the patient id with 7 digits  \n",
    "VisitDate: Date, the date of the patient's visit hospital. the data is collected from the year 1950 to 2023  "
   ]
  },
  {
   "cell_type": "code",
   "execution_count": 89,
   "metadata": {},
   "outputs": [
    {
     "name": "stdout",
     "output_type": "stream",
     "text": [
      "2215\n",
      "2215\n"
     ]
    }
   ],
   "source": [
    "#Remove Patient_ID with non 7-digit number\n",
    "print(len(df_patient))\n",
    "df_patient = df_patient[(df_patient['Participant_ID'] > 999999) & (df_patient['Participant_ID'] < 10000000)]\n",
    "print(len(df_patient))"
   ]
  },
  {
   "cell_type": "code",
   "execution_count": 90,
   "metadata": {},
   "outputs": [
    {
     "name": "stdout",
     "output_type": "stream",
     "text": [
      "2891\n",
      "2891\n"
     ]
    }
   ],
   "source": [
    "print(len(df_hospital))\n",
    "df_hospital = df_hospital[(df_hospital['Participant_ID'] > 999999) & (df_hospital['Participant_ID'] < 10000000)]\n",
    "print(len(df_hospital))"
   ]
  },
  {
   "cell_type": "code",
   "execution_count": 91,
   "metadata": {},
   "outputs": [
    {
     "name": "stdout",
     "output_type": "stream",
     "text": [
      "2215\n",
      "2215\n"
     ]
    }
   ],
   "source": [
    "# Sex\n",
    "print(len(df_patient))\n",
    "df_patient = df_patient[(df_patient['Sex'] == 'Male') | (df_patient['Sex'] == 'Female')]\n",
    "print(len(df_patient))"
   ]
  },
  {
   "cell_type": "code",
   "execution_count": 92,
   "metadata": {},
   "outputs": [
    {
     "name": "stdout",
     "output_type": "stream",
     "text": [
      "2215\n",
      "2215\n"
     ]
    }
   ],
   "source": [
    "#Age\n",
    "print(len(df_patient))\n",
    "df_patient = df_patient[(df_patient['Age'] > 0) & (df_patient['Age'] < 110)]\n",
    "print(len(df_patient))"
   ]
  },
  {
   "cell_type": "code",
   "execution_count": 93,
   "metadata": {},
   "outputs": [
    {
     "name": "stdout",
     "output_type": "stream",
     "text": [
      "2215\n",
      "2213\n"
     ]
    }
   ],
   "source": [
    "#BMI\n",
    "print(len(df_patient))\n",
    "df_patient = df_patient[(df_patient['BMI'] >= 15) & (df_patient['BMI'] <= 60)]\n",
    "print(len(df_patient))"
   ]
  },
  {
   "cell_type": "code",
   "execution_count": 94,
   "metadata": {},
   "outputs": [
    {
     "name": "stdout",
     "output_type": "stream",
     "text": [
      "2213\n",
      "2213\n"
     ]
    }
   ],
   "source": [
    "#Smoking\n",
    "print(len(df_patient))\n",
    "legal_status = [\"Never\", \"Previous\", \"Current\", \"Prefer not to answer\"]\n",
    "df_patient = df_patient[df_patient['Smoking_status'].isin(legal_status)]\n",
    "print(len(df_patient))"
   ]
  },
  {
   "cell_type": "code",
   "execution_count": 95,
   "metadata": {},
   "outputs": [
    {
     "name": "stdout",
     "output_type": "stream",
     "text": [
      "2213\n",
      "2213\n"
     ]
    }
   ],
   "source": [
    "#Disease\n",
    "print(len(df_patient))\n",
    "df_patient = df_patient[(df_patient['Disease'] == 1) | (df_patient['Disease'] == 2)]\n",
    "print(len(df_patient))\n",
    "# df_patient['Disease'] = df_patient['Disease'].replace({1: 'disease', 2: 'healthy'})\n"
   ]
  },
  {
   "cell_type": "code",
   "execution_count": 96,
   "metadata": {},
   "outputs": [
    {
     "data": {
      "text/plain": [
       "dtype('O')"
      ]
     },
     "execution_count": 96,
     "metadata": {},
     "output_type": "execute_result"
    }
   ],
   "source": [
    "#Date \n",
    "df_hospital.dropna(subset=['VisitDate'], inplace=True)\n",
    "df_hospital['VisitDate'].dtype"
   ]
  },
  {
   "cell_type": "code",
   "execution_count": 97,
   "metadata": {},
   "outputs": [],
   "source": [
    "\n",
    "df_hospital['datetime'] = pd.to_datetime(df_hospital['VisitDate'], format='%d/%m/%Y')"
   ]
  },
  {
   "cell_type": "code",
   "execution_count": 98,
   "metadata": {},
   "outputs": [
    {
     "name": "stdout",
     "output_type": "stream",
     "text": [
      "2807\n",
      "2807\n"
     ]
    }
   ],
   "source": [
    "# Remove duplicates\n",
    "print(len(df_hospital))\n",
    "df_hospital = df_hospital.loc[:, ~df_hospital.columns.duplicated()]\n",
    "print(len(df_hospital))"
   ]
  },
  {
   "attachments": {},
   "cell_type": "markdown",
   "metadata": {},
   "source": [
    "### Apply Changes"
   ]
  },
  {
   "cell_type": "code",
   "execution_count": 99,
   "metadata": {},
   "outputs": [],
   "source": [
    "# Remove all na from smpking status:\n",
    "df_patient.dropna(subset=['Smoking_status'], inplace=True)"
   ]
  },
  {
   "attachments": {},
   "cell_type": "markdown",
   "metadata": {},
   "source": [
    "### Unite"
   ]
  },
  {
   "cell_type": "code",
   "execution_count": 100,
   "metadata": {},
   "outputs": [
    {
     "name": "stdout",
     "output_type": "stream",
     "text": [
      "<class 'pandas.core.frame.DataFrame'>\n",
      "Index: 2213 entries, 0 to 2217\n",
      "Data columns (total 6 columns):\n",
      " #   Column          Non-Null Count  Dtype  \n",
      "---  ------          --------------  -----  \n",
      " 0   Participant_ID  2213 non-null   int64  \n",
      " 1   Sex             2213 non-null   object \n",
      " 2   Age             2213 non-null   int64  \n",
      " 3   Smoking_status  2213 non-null   object \n",
      " 4   BMI             2213 non-null   float64\n",
      " 5   Disease         2213 non-null   int64  \n",
      "dtypes: float64(1), int64(3), object(2)\n",
      "memory usage: 121.0+ KB\n"
     ]
    }
   ],
   "source": [
    "df_patient.info()"
   ]
  },
  {
   "cell_type": "code",
   "execution_count": 101,
   "metadata": {},
   "outputs": [],
   "source": [
    "patient_counts = df_hospital['Participant_ID'].value_counts()\n"
   ]
  },
  {
   "cell_type": "code",
   "execution_count": 102,
   "metadata": {},
   "outputs": [
    {
     "data": {
      "text/plain": [
       "Participant_ID\n",
       "4957784    17\n",
       "3203261    14\n",
       "1667100    13\n",
       "5537260     9\n",
       "5065581     9\n",
       "           ..\n",
       "3312328     1\n",
       "3309800     1\n",
       "3303832     1\n",
       "3303045     1\n",
       "3590765     1\n",
       "Name: count, Length: 2133, dtype: int64"
      ]
     },
     "execution_count": 102,
     "metadata": {},
     "output_type": "execute_result"
    }
   ],
   "source": [
    "patient_counts"
   ]
  },
  {
   "cell_type": "code",
   "execution_count": 103,
   "metadata": {},
   "outputs": [],
   "source": [
    "df_patient_with_counts = df_patient.merge(patient_counts, left_on='Participant_ID', right_index=True, how='left')\n"
   ]
  },
  {
   "cell_type": "code",
   "execution_count": 104,
   "metadata": {},
   "outputs": [
    {
     "name": "stdout",
     "output_type": "stream",
     "text": [
      "<class 'pandas.core.frame.DataFrame'>\n",
      "Index: 2213 entries, 0 to 2217\n",
      "Data columns (total 7 columns):\n",
      " #   Column          Non-Null Count  Dtype  \n",
      "---  ------          --------------  -----  \n",
      " 0   Participant_ID  2213 non-null   int64  \n",
      " 1   Sex             2213 non-null   object \n",
      " 2   Age             2213 non-null   int64  \n",
      " 3   Smoking_status  2213 non-null   object \n",
      " 4   BMI             2213 non-null   float64\n",
      " 5   Disease         2213 non-null   int64  \n",
      " 6   count           2130 non-null   float64\n",
      "dtypes: float64(2), int64(3), object(2)\n",
      "memory usage: 138.3+ KB\n"
     ]
    }
   ],
   "source": [
    "df_patient_with_counts.info()"
   ]
  },
  {
   "cell_type": "code",
   "execution_count": 105,
   "metadata": {},
   "outputs": [],
   "source": [
    "df_patient_with_counts['count'] = df_patient_with_counts['count'].fillna(0).astype(int)\n",
    "df_patient_with_counts.rename(columns={'count': 'Number_of_visit'}, inplace=True)\n",
    "df_patient_with_counts.rename(columns={'Participant_ID': 'Patient_ID'}, inplace=True)\n"
   ]
  },
  {
   "cell_type": "code",
   "execution_count": 106,
   "metadata": {},
   "outputs": [
    {
     "name": "stdout",
     "output_type": "stream",
     "text": [
      "<class 'pandas.core.frame.DataFrame'>\n",
      "Index: 2213 entries, 0 to 2217\n",
      "Data columns (total 7 columns):\n",
      " #   Column           Non-Null Count  Dtype  \n",
      "---  ------           --------------  -----  \n",
      " 0   Patient_ID       2213 non-null   int64  \n",
      " 1   Sex              2213 non-null   object \n",
      " 2   Age              2213 non-null   int64  \n",
      " 3   Smoking_status   2213 non-null   object \n",
      " 4   BMI              2213 non-null   float64\n",
      " 5   Disease          2213 non-null   int64  \n",
      " 6   Number_of_visit  2213 non-null   int64  \n",
      "dtypes: float64(1), int64(4), object(2)\n",
      "memory usage: 138.3+ KB\n"
     ]
    }
   ],
   "source": [
    "df_patient_with_counts.info()"
   ]
  },
  {
   "cell_type": "code",
   "execution_count": 107,
   "metadata": {},
   "outputs": [
    {
     "name": "stdout",
     "output_type": "stream",
     "text": [
      "<class 'pandas.core.frame.DataFrame'>\n",
      "Index: 2213 entries, 0 to 2217\n",
      "Data columns (total 7 columns):\n",
      " #   Column           Non-Null Count  Dtype  \n",
      "---  ------           --------------  -----  \n",
      " 0   Patient_ID       2213 non-null   int64  \n",
      " 1   Sex              2213 non-null   object \n",
      " 2   Age              2213 non-null   int64  \n",
      " 3   BMI              2213 non-null   float64\n",
      " 4   Smoking_status   2213 non-null   object \n",
      " 5   Number_of_visit  2213 non-null   int64  \n",
      " 6   Disease          2213 non-null   int64  \n",
      "dtypes: float64(1), int64(4), object(2)\n",
      "memory usage: 138.3+ KB\n"
     ]
    }
   ],
   "source": [
    "df_export = df_patient_with_counts[['Patient_ID', 'Sex', 'Age', 'BMI', 'Smoking_status', 'Number_of_visit', 'Disease']]\n",
    "df_export.info()"
   ]
  },
  {
   "cell_type": "code",
   "execution_count": 108,
   "metadata": {},
   "outputs": [],
   "source": [
    "df_export.to_csv('dataframe_export.csv', index=False)"
   ]
  },
  {
   "attachments": {},
   "cell_type": "markdown",
   "metadata": {},
   "source": [
    "---"
   ]
  },
  {
   "attachments": {},
   "cell_type": "markdown",
   "metadata": {},
   "source": [
    "\n",
    "\n",
    "\n",
    "\n",
    "\n",
    "\n",
    "\n",
    "# Statistics"
   ]
  },
  {
   "cell_type": "code",
   "execution_count": 117,
   "metadata": {},
   "outputs": [],
   "source": [
    "url_patient_info = \"./dataframe_export.csv\""
   ]
  },
  {
   "cell_type": "code",
   "execution_count": 118,
   "metadata": {},
   "outputs": [],
   "source": [
    "import pandas as pd\n",
    "df = pd.read_csv(url_patient_info)"
   ]
  },
  {
   "cell_type": "code",
   "execution_count": 119,
   "metadata": {},
   "outputs": [
    {
     "data": {
      "text/html": [
       "<div>\n",
       "<style scoped>\n",
       "    .dataframe tbody tr th:only-of-type {\n",
       "        vertical-align: middle;\n",
       "    }\n",
       "\n",
       "    .dataframe tbody tr th {\n",
       "        vertical-align: top;\n",
       "    }\n",
       "\n",
       "    .dataframe thead th {\n",
       "        text-align: right;\n",
       "    }\n",
       "</style>\n",
       "<table border=\"1\" class=\"dataframe\">\n",
       "  <thead>\n",
       "    <tr style=\"text-align: right;\">\n",
       "      <th></th>\n",
       "      <th>Patient_ID</th>\n",
       "      <th>Sex</th>\n",
       "      <th>Age</th>\n",
       "      <th>BMI</th>\n",
       "      <th>Smoking_status</th>\n",
       "      <th>Number_of_visit</th>\n",
       "      <th>Disease</th>\n",
       "    </tr>\n",
       "  </thead>\n",
       "  <tbody>\n",
       "    <tr>\n",
       "      <th>0</th>\n",
       "      <td>1003300</td>\n",
       "      <td>Male</td>\n",
       "      <td>62</td>\n",
       "      <td>33.7597</td>\n",
       "      <td>Previous</td>\n",
       "      <td>2</td>\n",
       "      <td>2</td>\n",
       "    </tr>\n",
       "    <tr>\n",
       "      <th>1</th>\n",
       "      <td>1004025</td>\n",
       "      <td>Male</td>\n",
       "      <td>60</td>\n",
       "      <td>28.1173</td>\n",
       "      <td>Previous</td>\n",
       "      <td>1</td>\n",
       "      <td>1</td>\n",
       "    </tr>\n",
       "    <tr>\n",
       "      <th>2</th>\n",
       "      <td>1005551</td>\n",
       "      <td>Male</td>\n",
       "      <td>69</td>\n",
       "      <td>26.4159</td>\n",
       "      <td>Previous</td>\n",
       "      <td>2</td>\n",
       "      <td>2</td>\n",
       "    </tr>\n",
       "    <tr>\n",
       "      <th>3</th>\n",
       "      <td>1005594</td>\n",
       "      <td>Male</td>\n",
       "      <td>64</td>\n",
       "      <td>24.7550</td>\n",
       "      <td>Previous</td>\n",
       "      <td>1</td>\n",
       "      <td>1</td>\n",
       "    </tr>\n",
       "    <tr>\n",
       "      <th>4</th>\n",
       "      <td>1005624</td>\n",
       "      <td>Male</td>\n",
       "      <td>64</td>\n",
       "      <td>35.0773</td>\n",
       "      <td>Previous</td>\n",
       "      <td>2</td>\n",
       "      <td>2</td>\n",
       "    </tr>\n",
       "    <tr>\n",
       "      <th>...</th>\n",
       "      <td>...</td>\n",
       "      <td>...</td>\n",
       "      <td>...</td>\n",
       "      <td>...</td>\n",
       "      <td>...</td>\n",
       "      <td>...</td>\n",
       "      <td>...</td>\n",
       "    </tr>\n",
       "    <tr>\n",
       "      <th>95</th>\n",
       "      <td>1260244</td>\n",
       "      <td>Male</td>\n",
       "      <td>64</td>\n",
       "      <td>26.0951</td>\n",
       "      <td>Previous</td>\n",
       "      <td>1</td>\n",
       "      <td>2</td>\n",
       "    </tr>\n",
       "    <tr>\n",
       "      <th>96</th>\n",
       "      <td>1264270</td>\n",
       "      <td>Male</td>\n",
       "      <td>69</td>\n",
       "      <td>24.8033</td>\n",
       "      <td>Never</td>\n",
       "      <td>1</td>\n",
       "      <td>2</td>\n",
       "    </tr>\n",
       "    <tr>\n",
       "      <th>97</th>\n",
       "      <td>1274970</td>\n",
       "      <td>Female</td>\n",
       "      <td>56</td>\n",
       "      <td>37.5391</td>\n",
       "      <td>Never</td>\n",
       "      <td>1</td>\n",
       "      <td>2</td>\n",
       "    </tr>\n",
       "    <tr>\n",
       "      <th>98</th>\n",
       "      <td>1275182</td>\n",
       "      <td>Male</td>\n",
       "      <td>61</td>\n",
       "      <td>26.9638</td>\n",
       "      <td>Never</td>\n",
       "      <td>1</td>\n",
       "      <td>2</td>\n",
       "    </tr>\n",
       "    <tr>\n",
       "      <th>99</th>\n",
       "      <td>1275331</td>\n",
       "      <td>Male</td>\n",
       "      <td>63</td>\n",
       "      <td>29.9041</td>\n",
       "      <td>Previous</td>\n",
       "      <td>1</td>\n",
       "      <td>2</td>\n",
       "    </tr>\n",
       "  </tbody>\n",
       "</table>\n",
       "<p>100 rows × 7 columns</p>\n",
       "</div>"
      ],
      "text/plain": [
       "    Patient_ID     Sex  Age      BMI Smoking_status  Number_of_visit  Disease\n",
       "0      1003300    Male   62  33.7597       Previous                2        2\n",
       "1      1004025    Male   60  28.1173       Previous                1        1\n",
       "2      1005551    Male   69  26.4159       Previous                2        2\n",
       "3      1005594    Male   64  24.7550       Previous                1        1\n",
       "4      1005624    Male   64  35.0773       Previous                2        2\n",
       "..         ...     ...  ...      ...            ...              ...      ...\n",
       "95     1260244    Male   64  26.0951       Previous                1        2\n",
       "96     1264270    Male   69  24.8033          Never                1        2\n",
       "97     1274970  Female   56  37.5391          Never                1        2\n",
       "98     1275182    Male   61  26.9638          Never                1        2\n",
       "99     1275331    Male   63  29.9041       Previous                1        2\n",
       "\n",
       "[100 rows x 7 columns]"
      ]
     },
     "execution_count": 119,
     "metadata": {},
     "output_type": "execute_result"
    }
   ],
   "source": [
    "df.head(100)"
   ]
  },
  {
   "attachments": {},
   "cell_type": "markdown",
   "metadata": {},
   "source": [
    "1. **Is the BMI different between the healthy and control group? make the box/violin chart**\n"
   ]
  },
  {
   "cell_type": "code",
   "execution_count": 120,
   "metadata": {},
   "outputs": [
    {
     "data": {
      "image/png": "[encoded data removed]",
      "text/plain": [
       "<Figure size 640x480 with 1 Axes>"
      ]
     },
     "metadata": {},
     "output_type": "display_data"
    }
   ],
   "source": [
    "import matplotlib.pyplot  as plt \n",
    "\n",
    "# Create a box plot\n",
    "df.boxplot(column='BMI', by='Disease')\n",
    "\n",
    "# Add labels and title\n",
    "plt.xlabel('Disease')\n",
    "plt.ylabel('BMI')\n",
    "\n",
    "plt.xticks([1, 2], ['Disease', 'Healthy'])\n",
    "\n",
    "# Show the plot\n",
    "plt.show()"
   ]
  },
  {
   "attachments": {},
   "cell_type": "markdown",
   "metadata": {},
   "source": [
    "> It seems like the median BMI of healthy people is slightly lower than people with a disease. However, there are more healthy people that reach over the upper whiskers.\n",
    "Generally we can say that there are noticeable differences between the BMI of healthy people and the ones with a disease."
   ]
  },
  {
   "attachments": {},
   "cell_type": "markdown",
   "metadata": {},
   "source": [
    "2. **Is the proportion of Smoke status different between the healthy and control group?**"
   ]
  },
  {
   "cell_type": "code",
   "execution_count": 121,
   "metadata": {},
   "outputs": [
    {
     "data": {
      "image/png": "[encoded data removed]",
      "text/plain": [
       "<Figure size 640x480 with 1 Axes>"
      ]
     },
     "metadata": {},
     "output_type": "display_data"
    }
   ],
   "source": [
    "import pandas as pd\n",
    "import matplotlib.pyplot as plt\n",
    "\n",
    "df['Disease'] = df['Disease'].map({1: 'Sick', 2: 'Healthy'})\n",
    "\n",
    "grouped_data = df.groupby(['Smoking_status', 'Disease']).size().unstack()\n",
    "\n",
    "# Handling missing values (somehow it causes issues without it)\n",
    "grouped_data = grouped_data.fillna(0)\n",
    "\n",
    "# Calculating the proportions by dividing each row by its sum\n",
    "proportions = grouped_data.div(grouped_data.sum(axis=1), axis=0)\n",
    "\n",
    "# Plotting the grouped bar chart\n",
    "proportions.plot(kind='bar')\n",
    "\n",
    "# Setting the title and labels\n",
    "plt.title(\"Proportion of Smoking Status in Healthy and Sick Groups\")\n",
    "plt.xlabel(\"Smoking Status\")\n",
    "plt.ylabel(\"Proportion\")\n",
    "\n",
    "plt.show()\n"
   ]
  },
  {
   "attachments": {},
   "cell_type": "markdown",
   "metadata": {},
   "source": [
    "> It seems like generally sick people are less willing to give their smoking status than healthy people. \n",
    "However, comparing the other statuses \"Current\", \"Never\" and \"Previous\", the occurrences of healthy and sick people evenly distribute throughout each of the three categories with barely visible differences."
   ]
  },
  {
   "attachments": {},
   "cell_type": "markdown",
   "metadata": {},
   "source": [
    "3. **Is the smoke status related to the number of Hospital visits regardless of the disease? (ignore the \"Prefer not to answer\")**"
   ]
  },
  {
   "cell_type": "code",
   "execution_count": 141,
   "metadata": {},
   "outputs": [
    {
     "data": {
      "text/plain": [
       "Smoking_status\n",
       "Current      455\n",
       "Never       1065\n",
       "Previous    1271\n",
       "Name: Number_of_visit, dtype: int64"
      ]
     },
     "execution_count": 141,
     "metadata": {},
     "output_type": "execute_result"
    }
   ],
   "source": [
    "filtered_df = df.loc[df['Smoking_status'] != 'Prefer not to answer']\n",
    "\n",
    "sum_visits = filtered_df.groupby('Smoking_status')['Number_of_visit'].sum()\n",
    "sum_visits"
   ]
  },
  {
   "cell_type": "code",
   "execution_count": 142,
   "metadata": {},
   "outputs": [
    {
     "data": {
      "image/png": "[encoded data removed]",
      "text/plain": [
       "<Figure size 640x480 with 1 Axes>"
      ]
     },
     "metadata": {},
     "output_type": "display_data"
    }
   ],
   "source": [
    "sum_visits.plot(kind='bar')\n",
    "\n",
    "plt.title(\"Sum of Number of Visits by Smoking Status\")\n",
    "plt.xlabel(\"Smoking Status\")\n",
    "plt.ylabel(\"Sum of Number of Visits\")\n",
    "\n",
    "plt.show()"
   ]
  },
  {
   "attachments": {},
   "cell_type": "markdown",
   "metadata": {},
   "source": [
    "> Generally there are less hospital visits for people that never smoked."
   ]
  },
  {
   "attachments": {},
   "cell_type": "markdown",
   "metadata": {},
   "source": [
    "4. **Is the number of visits higher in the Disease group than in the Healthy group?**\n"
   ]
  },
  {
   "cell_type": "code",
   "execution_count": 152,
   "metadata": {},
   "outputs": [
    {
     "data": {
      "text/plain": [
       "Disease\n",
       "Healthy    2085\n",
       "Sick        718\n",
       "Name: Number_of_visit, dtype: int64"
      ]
     },
     "execution_count": 152,
     "metadata": {},
     "output_type": "execute_result"
    }
   ],
   "source": [
    "df = pd.read_csv(url_patient_info)\n",
    "df['Disease'] = df['Disease'].map({1: 'Sick', 2: 'Healthy'})\n",
    "\n",
    "sum_visits_disease = df.groupby('Disease')['Number_of_visit'].sum()\n",
    "sum_visits_disease"
   ]
  },
  {
   "cell_type": "code",
   "execution_count": 150,
   "metadata": {},
   "outputs": [
    {
     "data": {
      "image/png": "[encoded data removed]",
      "text/plain": [
       "<Figure size 640x480 with 1 Axes>"
      ]
     },
     "metadata": {},
     "output_type": "display_data"
    }
   ],
   "source": [
    "sum_visits_disease.plot(kind='bar')\n",
    "\n",
    "plt.title(\"Sum of Number of Visits by Disease\")\n",
    "plt.xlabel(\"Disease\")\n",
    "plt.ylabel(\"Sum of Number of Visits\")\n",
    "\n",
    "plt.show()"
   ]
  },
  {
   "cell_type": "code",
   "execution_count": null,
   "metadata": {},
   "outputs": [
    {
     "data": {
      "text/plain": [
       "Disease\n",
       "Healthy    0.743846\n",
       "Sick       0.256154\n",
       "Name: Number_of_visit, dtype: float64"
      ]
     },
     "metadata": {},
     "output_type": "display_data"
    }
   ],
   "source": [
    "relative_visits = sum_visits_disease.div(sum_visits_disease.sum(axis=0), axis=0)\n",
    "relative_visits"
   ]
  },
  {
   "cell_type": "code",
   "execution_count": 158,
   "metadata": {},
   "outputs": [
    {
     "data": {
      "image/png": "[encoded data removed]",
      "text/plain": [
       "<Figure size 640x480 with 1 Axes>"
      ]
     },
     "metadata": {},
     "output_type": "display_data"
    }
   ],
   "source": [
    "relative_visits.plot(kind='bar')\n",
    "\n",
    "plt.title(\"Relative Number of Visits by Disease\")\n",
    "plt.xlabel(\"Disease\")\n",
    "plt.ylabel(\"Ratio of Number of Visits\")\n",
    "\n",
    "plt.show()"
   ]
  },
  {
   "attachments": {},
   "cell_type": "markdown",
   "metadata": {},
   "source": [
    "> The number of hospital visits is higher for the healthy group than for the sick group."
   ]
  },
  {
   "attachments": {},
   "cell_type": "markdown",
   "metadata": {},
   "source": [
    "5. **Do Male has a higher current smoke percentage compared to Female?**\n"
   ]
  },
  {
   "cell_type": "code",
   "execution_count": 163,
   "metadata": {},
   "outputs": [
    {
     "data": {
      "text/plain": [
       "Sex\n",
       "Female    0.166667\n",
       "Male      0.154724\n",
       "Name: Smoking_status, dtype: float64"
      ]
     },
     "execution_count": 163,
     "metadata": {},
     "output_type": "execute_result"
    }
   ],
   "source": [
    "df = pd.read_csv(url_patient_info)\n",
    "\n",
    "\n",
    "current_smoker_df = df[df['Smoking_status'] == 'Current']\n",
    "gender_current_smoker_df = current_smoker_df.groupby('Sex')['Smoking_status'].size()\n",
    "gender_df = df.groupby('Sex')['Smoking_status'].size()\n",
    "\n",
    "relative_smoker_df = gender_current_smoker_df.div(gender_df)\n",
    "\n",
    "\n",
    "relative_smoker_df"
   ]
  },
  {
   "cell_type": "code",
   "execution_count": 165,
   "metadata": {},
   "outputs": [
    {
     "data": {
      "image/png": "[encoded data removed]",
      "text/plain": [
       "<Figure size 640x480 with 1 Axes>"
      ]
     },
     "metadata": {},
     "output_type": "display_data"
    }
   ],
   "source": [
    "relative_smoker_df.plot(kind='bar')\n",
    "plt.title(\"Relative Number of Current Smoker\")\n",
    "plt.xlabel(\"Sex\")\n",
    "plt.ylabel(\"Current Smoker\")\n",
    "\n",
    "plt.show()"
   ]
  },
  {
   "attachments": {},
   "cell_type": "markdown",
   "metadata": {},
   "source": [
    "> There are slightly more current smoker among the female participants than among the male ones."
   ]
  },
  {
   "attachments": {},
   "cell_type": "markdown",
   "metadata": {},
   "source": []
  }
 ],
 "metadata": {
  "kernelspec": {
   "display_name": "Python 3",
   "language": "python",
   "name": "python3"
  },
  "language_info": {
   "codemirror_mode": {
    "name": "ipython",
    "version": 3
   },
   "file_extension": ".py",
   "mimetype": "text/x-python",
   "name": "python",
   "nbconvert_exporter": "python",
   "pygments_lexer": "ipython3",
   "version": "3.11.3"
  },
  "orig_nbformat": 4
 },
 "nbformat": 4,
 "nbformat_minor": 2
}
