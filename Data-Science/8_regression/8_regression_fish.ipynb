{
 "cells": [
  {
   "attachments": {},
   "cell_type": "markdown",
   "id": "f50c605c",
   "metadata": {},
   "source": [
    "# Regression Excercise\n",
    "Julian Lopes Hinz, SoSe 2023"
   ]
  },
  {
   "attachments": {},
   "cell_type": "markdown",
   "id": "37184fd0",
   "metadata": {
    "papermill": {
     "duration": 0.019879,
     "end_time": "2023-06-01T21:41:56.028424",
     "exception": false,
     "start_time": "2023-06-01T21:41:56.008545",
     "status": "completed"
    },
    "tags": []
   },
   "source": [
    "# 1. **Import Libraries**"
   ]
  },
  {
   "cell_type": "code",
   "execution_count": 49,
   "id": "211aad0c",
   "metadata": {
    "execution": {
     "iopub.execute_input": "2023-06-01T21:41:56.067982Z",
     "iopub.status.busy": "2023-06-01T21:41:56.067500Z",
     "iopub.status.idle": "2023-06-01T21:41:57.567324Z",
     "shell.execute_reply": "2023-06-01T21:41:57.566020Z"
    },
    "id": "Ze5wDkO36n5b",
    "papermill": {
     "duration": 1.522794,
     "end_time": "2023-06-01T21:41:57.570368",
     "exception": false,
     "start_time": "2023-06-01T21:41:56.047574",
     "status": "completed"
    },
    "tags": []
   },
   "outputs": [],
   "source": [
    "import pandas as pd\n",
    "import numpy as np\n",
    "import matplotlib.pyplot as plt\n",
    "import seaborn as sns"
   ]
  },
  {
   "attachments": {},
   "cell_type": "markdown",
   "id": "38cd5f09",
   "metadata": {
    "papermill": {
     "duration": 0.018431,
     "end_time": "2023-06-01T21:41:57.607186",
     "exception": false,
     "start_time": "2023-06-01T21:41:57.588755",
     "status": "completed"
    },
    "tags": []
   },
   "source": [
    "# 2. **Load Data**"
   ]
  },
  {
   "cell_type": "code",
   "execution_count": 50,
   "id": "44dc240e",
   "metadata": {
    "execution": {
     "iopub.execute_input": "2023-06-01T21:41:57.646631Z",
     "iopub.status.busy": "2023-06-01T21:41:57.646175Z",
     "iopub.status.idle": "2023-06-01T21:41:57.777703Z",
     "shell.execute_reply": "2023-06-01T21:41:57.776377Z"
    },
    "id": "VrtUmFgV8Pi3",
    "papermill": {
     "duration": 0.154792,
     "end_time": "2023-06-01T21:41:57.780669",
     "exception": false,
     "start_time": "2023-06-01T21:41:57.625877",
     "status": "completed"
    },
    "tags": []
   },
   "outputs": [],
   "source": [
    "df=pd.read_csv(\"./data/Fish.csv\")"
   ]
  },
  {
   "cell_type": "code",
   "execution_count": 51,
   "id": "403c587f",
   "metadata": {
    "execution": {
     "iopub.execute_input": "2023-06-01T21:41:57.819655Z",
     "iopub.status.busy": "2023-06-01T21:41:57.819259Z",
     "iopub.status.idle": "2023-06-01T21:41:57.876539Z",
     "shell.execute_reply": "2023-06-01T21:41:57.875173Z"
    },
    "id": "wo9_DS_u8WUj",
    "outputId": "448c121b-9938-41ba-ca7f-17ae438a1786",
    "papermill": {
     "duration": 0.080378,
     "end_time": "2023-06-01T21:41:57.879490",
     "exception": false,
     "start_time": "2023-06-01T21:41:57.799112",
     "status": "completed"
    },
    "tags": []
   },
   "outputs": [
    {
     "data": {
      "text/html": [
       "<div>\n",
       "<style scoped>\n",
       "    .dataframe tbody tr th:only-of-type {\n",
       "        vertical-align: middle;\n",
       "    }\n",
       "\n",
       "    .dataframe tbody tr th {\n",
       "        vertical-align: top;\n",
       "    }\n",
       "\n",
       "    .dataframe thead th {\n",
       "        text-align: right;\n",
       "    }\n",
       "</style>\n",
       "<table border=\"1\" class=\"dataframe\">\n",
       "  <thead>\n",
       "    <tr style=\"text-align: right;\">\n",
       "      <th></th>\n",
       "      <th>Species</th>\n",
       "      <th>Weight</th>\n",
       "      <th>Length1</th>\n",
       "      <th>Length2</th>\n",
       "      <th>Length3</th>\n",
       "      <th>Height</th>\n",
       "      <th>Width</th>\n",
       "    </tr>\n",
       "  </thead>\n",
       "  <tbody>\n",
       "    <tr>\n",
       "      <th>0</th>\n",
       "      <td>Bream</td>\n",
       "      <td>242.0</td>\n",
       "      <td>23.2</td>\n",
       "      <td>25.4</td>\n",
       "      <td>30.0</td>\n",
       "      <td>11.5200</td>\n",
       "      <td>4.0200</td>\n",
       "    </tr>\n",
       "    <tr>\n",
       "      <th>1</th>\n",
       "      <td>Bream</td>\n",
       "      <td>290.0</td>\n",
       "      <td>24.0</td>\n",
       "      <td>26.3</td>\n",
       "      <td>31.2</td>\n",
       "      <td>12.4800</td>\n",
       "      <td>4.3056</td>\n",
       "    </tr>\n",
       "    <tr>\n",
       "      <th>2</th>\n",
       "      <td>Bream</td>\n",
       "      <td>340.0</td>\n",
       "      <td>23.9</td>\n",
       "      <td>26.5</td>\n",
       "      <td>31.1</td>\n",
       "      <td>12.3778</td>\n",
       "      <td>4.6961</td>\n",
       "    </tr>\n",
       "    <tr>\n",
       "      <th>3</th>\n",
       "      <td>Bream</td>\n",
       "      <td>363.0</td>\n",
       "      <td>26.3</td>\n",
       "      <td>29.0</td>\n",
       "      <td>33.5</td>\n",
       "      <td>12.7300</td>\n",
       "      <td>4.4555</td>\n",
       "    </tr>\n",
       "    <tr>\n",
       "      <th>4</th>\n",
       "      <td>Bream</td>\n",
       "      <td>430.0</td>\n",
       "      <td>26.5</td>\n",
       "      <td>29.0</td>\n",
       "      <td>34.0</td>\n",
       "      <td>12.4440</td>\n",
       "      <td>5.1340</td>\n",
       "    </tr>\n",
       "    <tr>\n",
       "      <th>...</th>\n",
       "      <td>...</td>\n",
       "      <td>...</td>\n",
       "      <td>...</td>\n",
       "      <td>...</td>\n",
       "      <td>...</td>\n",
       "      <td>...</td>\n",
       "      <td>...</td>\n",
       "    </tr>\n",
       "    <tr>\n",
       "      <th>95</th>\n",
       "      <td>Perch</td>\n",
       "      <td>170.0</td>\n",
       "      <td>21.5</td>\n",
       "      <td>23.5</td>\n",
       "      <td>25.0</td>\n",
       "      <td>6.2750</td>\n",
       "      <td>3.7250</td>\n",
       "    </tr>\n",
       "    <tr>\n",
       "      <th>96</th>\n",
       "      <td>Perch</td>\n",
       "      <td>225.0</td>\n",
       "      <td>22.0</td>\n",
       "      <td>24.0</td>\n",
       "      <td>25.5</td>\n",
       "      <td>7.2930</td>\n",
       "      <td>3.7230</td>\n",
       "    </tr>\n",
       "    <tr>\n",
       "      <th>97</th>\n",
       "      <td>Perch</td>\n",
       "      <td>145.0</td>\n",
       "      <td>22.0</td>\n",
       "      <td>24.0</td>\n",
       "      <td>25.5</td>\n",
       "      <td>6.3750</td>\n",
       "      <td>3.8250</td>\n",
       "    </tr>\n",
       "    <tr>\n",
       "      <th>98</th>\n",
       "      <td>Perch</td>\n",
       "      <td>188.0</td>\n",
       "      <td>22.6</td>\n",
       "      <td>24.6</td>\n",
       "      <td>26.2</td>\n",
       "      <td>6.7334</td>\n",
       "      <td>4.1658</td>\n",
       "    </tr>\n",
       "    <tr>\n",
       "      <th>99</th>\n",
       "      <td>Perch</td>\n",
       "      <td>180.0</td>\n",
       "      <td>23.0</td>\n",
       "      <td>25.0</td>\n",
       "      <td>26.5</td>\n",
       "      <td>6.4395</td>\n",
       "      <td>3.6835</td>\n",
       "    </tr>\n",
       "  </tbody>\n",
       "</table>\n",
       "<p>100 rows × 7 columns</p>\n",
       "</div>"
      ],
      "text/plain": [
       "   Species  Weight  Length1  Length2  Length3   Height   Width\n",
       "0    Bream   242.0     23.2     25.4     30.0  11.5200  4.0200\n",
       "1    Bream   290.0     24.0     26.3     31.2  12.4800  4.3056\n",
       "2    Bream   340.0     23.9     26.5     31.1  12.3778  4.6961\n",
       "3    Bream   363.0     26.3     29.0     33.5  12.7300  4.4555\n",
       "4    Bream   430.0     26.5     29.0     34.0  12.4440  5.1340\n",
       "..     ...     ...      ...      ...      ...      ...     ...\n",
       "95   Perch   170.0     21.5     23.5     25.0   6.2750  3.7250\n",
       "96   Perch   225.0     22.0     24.0     25.5   7.2930  3.7230\n",
       "97   Perch   145.0     22.0     24.0     25.5   6.3750  3.8250\n",
       "98   Perch   188.0     22.6     24.6     26.2   6.7334  4.1658\n",
       "99   Perch   180.0     23.0     25.0     26.5   6.4395  3.6835\n",
       "\n",
       "[100 rows x 7 columns]"
      ]
     },
     "execution_count": 51,
     "metadata": {},
     "output_type": "execute_result"
    }
   ],
   "source": [
    "df.head(100)"
   ]
  },
  {
   "attachments": {},
   "cell_type": "markdown",
   "id": "a3dd8826",
   "metadata": {
    "papermill": {
     "duration": 0.019092,
     "end_time": "2023-06-01T21:41:57.918159",
     "exception": false,
     "start_time": "2023-06-01T21:41:57.899067",
     "status": "completed"
    },
    "tags": []
   },
   "source": [
    "# 3. **Preprocessing On Data**"
   ]
  },
  {
   "cell_type": "code",
   "execution_count": 52,
   "id": "1b1fb5e4",
   "metadata": {
    "execution": {
     "iopub.execute_input": "2023-06-01T21:41:57.957957Z",
     "iopub.status.busy": "2023-06-01T21:41:57.957507Z",
     "iopub.status.idle": "2023-06-01T21:41:57.963889Z",
     "shell.execute_reply": "2023-06-01T21:41:57.963079Z"
    },
    "id": "A9Ie8C_sSQh7",
    "outputId": "99bba3fd-be8e-4c28-9877-a3e7c0a38f6b",
    "papermill": {
     "duration": 0.029012,
     "end_time": "2023-06-01T21:41:57.966272",
     "exception": false,
     "start_time": "2023-06-01T21:41:57.937260",
     "status": "completed"
    },
    "tags": []
   },
   "outputs": [
    {
     "data": {
      "text/plain": [
       "(159, 7)"
      ]
     },
     "execution_count": 52,
     "metadata": {},
     "output_type": "execute_result"
    }
   ],
   "source": [
    "df.shape"
   ]
  },
  {
   "attachments": {},
   "cell_type": "markdown",
   "id": "1fcad86d",
   "metadata": {
    "id": "2s5QX_SdMJzT",
    "papermill": {
     "duration": 0.018826,
     "end_time": "2023-06-01T21:41:58.004513",
     "exception": false,
     "start_time": "2023-06-01T21:41:57.985687",
     "status": "completed"
    },
    "tags": []
   },
   "source": [
    "We Should convert column date into Date"
   ]
  },
  {
   "cell_type": "code",
   "execution_count": 53,
   "id": "80d7cdf5",
   "metadata": {
    "execution": {
     "iopub.execute_input": "2023-06-01T21:41:58.046040Z",
     "iopub.status.busy": "2023-06-01T21:41:58.045290Z",
     "iopub.status.idle": "2023-06-01T21:41:58.077335Z",
     "shell.execute_reply": "2023-06-01T21:41:58.076251Z"
    },
    "id": "7i11ILRQKl6m",
    "outputId": "49530bb5-ad39-4069-d65d-8b3c0bdc1d44",
    "papermill": {
     "duration": 0.055789,
     "end_time": "2023-06-01T21:41:58.080221",
     "exception": false,
     "start_time": "2023-06-01T21:41:58.024432",
     "status": "completed"
    },
    "tags": []
   },
   "outputs": [
    {
     "name": "stdout",
     "output_type": "stream",
     "text": [
      "<class 'pandas.core.frame.DataFrame'>\n",
      "RangeIndex: 159 entries, 0 to 158\n",
      "Data columns (total 7 columns):\n",
      " #   Column   Non-Null Count  Dtype  \n",
      "---  ------   --------------  -----  \n",
      " 0   Species  159 non-null    object \n",
      " 1   Weight   159 non-null    float64\n",
      " 2   Length1  159 non-null    float64\n",
      " 3   Length2  159 non-null    float64\n",
      " 4   Length3  159 non-null    float64\n",
      " 5   Height   159 non-null    float64\n",
      " 6   Width    159 non-null    float64\n",
      "dtypes: float64(6), object(1)\n",
      "memory usage: 8.8+ KB\n"
     ]
    }
   ],
   "source": [
    "df.info()"
   ]
  },
  {
   "cell_type": "code",
   "execution_count": 54,
   "id": "b1db40c4",
   "metadata": {
    "execution": {
     "iopub.execute_input": "2023-06-01T21:41:58.121027Z",
     "iopub.status.busy": "2023-06-01T21:41:58.120336Z",
     "iopub.status.idle": "2023-06-01T21:41:58.214099Z",
     "shell.execute_reply": "2023-06-01T21:41:58.213187Z"
    },
    "id": "lhwVxJfwKy9S",
    "outputId": "08e75d62-dafe-4c8c-d10e-f651fd212a75",
    "papermill": {
     "duration": 0.116937,
     "end_time": "2023-06-01T21:41:58.216475",
     "exception": false,
     "start_time": "2023-06-01T21:41:58.099538",
     "status": "completed"
    },
    "tags": []
   },
   "outputs": [
    {
     "data": {
      "text/html": [
       "<div>\n",
       "<style scoped>\n",
       "    .dataframe tbody tr th:only-of-type {\n",
       "        vertical-align: middle;\n",
       "    }\n",
       "\n",
       "    .dataframe tbody tr th {\n",
       "        vertical-align: top;\n",
       "    }\n",
       "\n",
       "    .dataframe thead th {\n",
       "        text-align: right;\n",
       "    }\n",
       "</style>\n",
       "<table border=\"1\" class=\"dataframe\">\n",
       "  <thead>\n",
       "    <tr style=\"text-align: right;\">\n",
       "      <th></th>\n",
       "      <th>Weight</th>\n",
       "      <th>Length1</th>\n",
       "      <th>Length2</th>\n",
       "      <th>Length3</th>\n",
       "      <th>Height</th>\n",
       "      <th>Width</th>\n",
       "    </tr>\n",
       "  </thead>\n",
       "  <tbody>\n",
       "    <tr>\n",
       "      <th>count</th>\n",
       "      <td>159.000000</td>\n",
       "      <td>159.000000</td>\n",
       "      <td>159.000000</td>\n",
       "      <td>159.000000</td>\n",
       "      <td>159.000000</td>\n",
       "      <td>159.000000</td>\n",
       "    </tr>\n",
       "    <tr>\n",
       "      <th>mean</th>\n",
       "      <td>398.326415</td>\n",
       "      <td>26.247170</td>\n",
       "      <td>28.415723</td>\n",
       "      <td>31.227044</td>\n",
       "      <td>8.970994</td>\n",
       "      <td>4.417486</td>\n",
       "    </tr>\n",
       "    <tr>\n",
       "      <th>std</th>\n",
       "      <td>357.978317</td>\n",
       "      <td>9.996441</td>\n",
       "      <td>10.716328</td>\n",
       "      <td>11.610246</td>\n",
       "      <td>4.286208</td>\n",
       "      <td>1.685804</td>\n",
       "    </tr>\n",
       "    <tr>\n",
       "      <th>min</th>\n",
       "      <td>0.000000</td>\n",
       "      <td>7.500000</td>\n",
       "      <td>8.400000</td>\n",
       "      <td>8.800000</td>\n",
       "      <td>1.728400</td>\n",
       "      <td>1.047600</td>\n",
       "    </tr>\n",
       "    <tr>\n",
       "      <th>25%</th>\n",
       "      <td>120.000000</td>\n",
       "      <td>19.050000</td>\n",
       "      <td>21.000000</td>\n",
       "      <td>23.150000</td>\n",
       "      <td>5.944800</td>\n",
       "      <td>3.385650</td>\n",
       "    </tr>\n",
       "    <tr>\n",
       "      <th>50%</th>\n",
       "      <td>273.000000</td>\n",
       "      <td>25.200000</td>\n",
       "      <td>27.300000</td>\n",
       "      <td>29.400000</td>\n",
       "      <td>7.786000</td>\n",
       "      <td>4.248500</td>\n",
       "    </tr>\n",
       "    <tr>\n",
       "      <th>75%</th>\n",
       "      <td>650.000000</td>\n",
       "      <td>32.700000</td>\n",
       "      <td>35.500000</td>\n",
       "      <td>39.650000</td>\n",
       "      <td>12.365900</td>\n",
       "      <td>5.584500</td>\n",
       "    </tr>\n",
       "    <tr>\n",
       "      <th>max</th>\n",
       "      <td>1650.000000</td>\n",
       "      <td>59.000000</td>\n",
       "      <td>63.400000</td>\n",
       "      <td>68.000000</td>\n",
       "      <td>18.957000</td>\n",
       "      <td>8.142000</td>\n",
       "    </tr>\n",
       "  </tbody>\n",
       "</table>\n",
       "</div>"
      ],
      "text/plain": [
       "            Weight     Length1     Length2     Length3      Height       Width\n",
       "count   159.000000  159.000000  159.000000  159.000000  159.000000  159.000000\n",
       "mean    398.326415   26.247170   28.415723   31.227044    8.970994    4.417486\n",
       "std     357.978317    9.996441   10.716328   11.610246    4.286208    1.685804\n",
       "min       0.000000    7.500000    8.400000    8.800000    1.728400    1.047600\n",
       "25%     120.000000   19.050000   21.000000   23.150000    5.944800    3.385650\n",
       "50%     273.000000   25.200000   27.300000   29.400000    7.786000    4.248500\n",
       "75%     650.000000   32.700000   35.500000   39.650000   12.365900    5.584500\n",
       "max    1650.000000   59.000000   63.400000   68.000000   18.957000    8.142000"
      ]
     },
     "execution_count": 54,
     "metadata": {},
     "output_type": "execute_result"
    }
   ],
   "source": [
    "df.describe()"
   ]
  },
  {
   "cell_type": "code",
   "execution_count": 55,
   "id": "a110e76b",
   "metadata": {
    "execution": {
     "iopub.execute_input": "2023-06-01T21:41:58.258013Z",
     "iopub.status.busy": "2023-06-01T21:41:58.257314Z",
     "iopub.status.idle": "2023-06-01T21:41:58.274037Z",
     "shell.execute_reply": "2023-06-01T21:41:58.272922Z"
    },
    "id": "Pmtd7msyK0V8",
    "outputId": "37637c5b-0819-4933-ea98-6e8690c17b41",
    "papermill": {
     "duration": 0.040411,
     "end_time": "2023-06-01T21:41:58.276548",
     "exception": false,
     "start_time": "2023-06-01T21:41:58.236137",
     "status": "completed"
    },
    "tags": []
   },
   "outputs": [
    {
     "data": {
      "text/plain": [
       "Species    159\n",
       "Weight     159\n",
       "Length1    159\n",
       "Length2    159\n",
       "Length3    159\n",
       "Height     159\n",
       "Width      159\n",
       "dtype: int64"
      ]
     },
     "execution_count": 55,
     "metadata": {},
     "output_type": "execute_result"
    }
   ],
   "source": [
    "df.count()"
   ]
  },
  {
   "cell_type": "code",
   "execution_count": 56,
   "id": "df55ab48",
   "metadata": {
    "execution": {
     "iopub.execute_input": "2023-06-01T21:41:58.318481Z",
     "iopub.status.busy": "2023-06-01T21:41:58.318046Z",
     "iopub.status.idle": "2023-06-01T21:41:58.335784Z",
     "shell.execute_reply": "2023-06-01T21:41:58.334677Z"
    },
    "id": "Flwe9hBHLAfr",
    "outputId": "62639380-96f0-4514-f462-3817806d88dd",
    "papermill": {
     "duration": 0.04233,
     "end_time": "2023-06-01T21:41:58.338578",
     "exception": false,
     "start_time": "2023-06-01T21:41:58.296248",
     "status": "completed"
    },
    "tags": []
   },
   "outputs": [
    {
     "data": {
      "text/plain": [
       "Species    0\n",
       "Weight     0\n",
       "Length1    0\n",
       "Length2    0\n",
       "Length3    0\n",
       "Height     0\n",
       "Width      0\n",
       "dtype: int64"
      ]
     },
     "execution_count": 56,
     "metadata": {},
     "output_type": "execute_result"
    }
   ],
   "source": [
    "df.isna().sum()"
   ]
  },
  {
   "cell_type": "code",
   "execution_count": 57,
   "id": "5240c805",
   "metadata": {
    "execution": {
     "iopub.execute_input": "2023-06-01T21:41:58.381971Z",
     "iopub.status.busy": "2023-06-01T21:41:58.381148Z",
     "iopub.status.idle": "2023-06-01T21:41:58.390391Z",
     "shell.execute_reply": "2023-06-01T21:41:58.389223Z"
    },
    "id": "zlsX2hYoL5Nc",
    "outputId": "ce86427f-c2f0-424b-b52a-0441420cb128",
    "papermill": {
     "duration": 0.033194,
     "end_time": "2023-06-01T21:41:58.392724",
     "exception": false,
     "start_time": "2023-06-01T21:41:58.359530",
     "status": "completed"
    },
    "tags": []
   },
   "outputs": [
    {
     "data": {
      "text/plain": [
       "0      Bream\n",
       "1      Bream\n",
       "2      Bream\n",
       "3      Bream\n",
       "4      Bream\n",
       "       ...  \n",
       "154    Smelt\n",
       "155    Smelt\n",
       "156    Smelt\n",
       "157    Smelt\n",
       "158    Smelt\n",
       "Name: Species, Length: 159, dtype: object"
      ]
     },
     "execution_count": 57,
     "metadata": {},
     "output_type": "execute_result"
    }
   ],
   "source": [
    "df['Species']"
   ]
  },
  {
   "cell_type": "code",
   "execution_count": 58,
   "id": "57c7f5f6",
   "metadata": {
    "execution": {
     "iopub.execute_input": "2023-06-01T21:41:58.434741Z",
     "iopub.status.busy": "2023-06-01T21:41:58.434363Z",
     "iopub.status.idle": "2023-06-01T21:41:58.442517Z",
     "shell.execute_reply": "2023-06-01T21:41:58.441472Z"
    },
    "id": "4QJu6zsxNztF",
    "outputId": "83acbc3b-0f85-442d-9615-c35daa122502",
    "papermill": {
     "duration": 0.032303,
     "end_time": "2023-06-01T21:41:58.445265",
     "exception": false,
     "start_time": "2023-06-01T21:41:58.412962",
     "status": "completed"
    },
    "tags": []
   },
   "outputs": [
    {
     "data": {
      "text/plain": [
       "Species     object\n",
       "Weight     float64\n",
       "Length1    float64\n",
       "Length2    float64\n",
       "Length3    float64\n",
       "Height     float64\n",
       "Width      float64\n",
       "dtype: object"
      ]
     },
     "execution_count": 58,
     "metadata": {},
     "output_type": "execute_result"
    }
   ],
   "source": [
    "df.dtypes"
   ]
  },
  {
   "cell_type": "code",
   "execution_count": 59,
   "id": "9917ebb5",
   "metadata": {
    "execution": {
     "iopub.execute_input": "2023-06-01T21:41:58.856144Z",
     "iopub.status.busy": "2023-06-01T21:41:58.855737Z",
     "iopub.status.idle": "2023-06-01T21:41:58.863908Z",
     "shell.execute_reply": "2023-06-01T21:41:58.863089Z"
    },
    "id": "6roHCWIkOAoy",
    "outputId": "83a2c498-6e67-4de4-801c-882da0823145",
    "papermill": {
     "duration": 0.031791,
     "end_time": "2023-06-01T21:41:58.865961",
     "exception": false,
     "start_time": "2023-06-01T21:41:58.834170",
     "status": "completed"
    },
    "tags": []
   },
   "outputs": [
    {
     "data": {
      "text/plain": [
       "Species     object\n",
       "Weight     float64\n",
       "Length1    float64\n",
       "Length2    float64\n",
       "Length3    float64\n",
       "Height     float64\n",
       "Width      float64\n",
       "dtype: object"
      ]
     },
     "execution_count": 59,
     "metadata": {},
     "output_type": "execute_result"
    }
   ],
   "source": [
    "df.dtypes"
   ]
  },
  {
   "attachments": {},
   "cell_type": "markdown",
   "id": "d00d3e90",
   "metadata": {},
   "source": [
    "The model cannot be trained with a input type (feature) being a string. Thus we instead need to represent it by a numeric value by reating a new colum for each type of species and assigning it a corresponding boolean value:"
   ]
  },
  {
   "cell_type": "code",
   "execution_count": 60,
   "id": "1b2de9e8",
   "metadata": {},
   "outputs": [],
   "source": [
    "from sklearn.preprocessing import LabelEncoder\n",
    "\n",
    "# Create a LabelEncoder object\n",
    "label_encoder = LabelEncoder()\n",
    "\n",
    "# Fit the LabelEncoder on the \"species\" column\n",
    "df['species_encoded'] = label_encoder.fit_transform(df['Species'])"
   ]
  },
  {
   "cell_type": "code",
   "execution_count": 61,
   "id": "f26f8900",
   "metadata": {},
   "outputs": [
    {
     "data": {
      "text/plain": [
       "0      0\n",
       "1      0\n",
       "2      0\n",
       "3      0\n",
       "4      0\n",
       "      ..\n",
       "154    5\n",
       "155    5\n",
       "156    5\n",
       "157    5\n",
       "158    5\n",
       "Name: species_encoded, Length: 159, dtype: int64"
      ]
     },
     "execution_count": 61,
     "metadata": {},
     "output_type": "execute_result"
    }
   ],
   "source": [
    "df['species_encoded']"
   ]
  },
  {
   "cell_type": "code",
   "execution_count": 62,
   "id": "b0255fa4",
   "metadata": {},
   "outputs": [],
   "source": [
    "# Perform One-Hot Encoding using pd.get_dummies()\n",
    "one_hot_encoded = pd.get_dummies(df['Species'], prefix='Species')\n",
    "\n",
    "# Concatenate the one-hot encoded columns with the original DataFrame\n",
    "df_encoded = pd.concat([df, one_hot_encoded], axis=1)"
   ]
  },
  {
   "cell_type": "code",
   "execution_count": 63,
   "id": "2c019a57",
   "metadata": {},
   "outputs": [
    {
     "name": "stdout",
     "output_type": "stream",
     "text": [
      "<class 'pandas.core.frame.DataFrame'>\n",
      "RangeIndex: 159 entries, 0 to 158\n",
      "Data columns (total 8 columns):\n",
      " #   Column           Non-Null Count  Dtype  \n",
      "---  ------           --------------  -----  \n",
      " 0   Species          159 non-null    object \n",
      " 1   Weight           159 non-null    float64\n",
      " 2   Length1          159 non-null    float64\n",
      " 3   Length2          159 non-null    float64\n",
      " 4   Length3          159 non-null    float64\n",
      " 5   Height           159 non-null    float64\n",
      " 6   Width            159 non-null    float64\n",
      " 7   species_encoded  159 non-null    int64  \n",
      "dtypes: float64(6), int64(1), object(1)\n",
      "memory usage: 10.1+ KB\n"
     ]
    }
   ],
   "source": [
    "df.info()"
   ]
  },
  {
   "cell_type": "code",
   "execution_count": 64,
   "id": "4735d194",
   "metadata": {},
   "outputs": [
    {
     "name": "stdout",
     "output_type": "stream",
     "text": [
      "<class 'pandas.core.frame.DataFrame'>\n",
      "RangeIndex: 159 entries, 0 to 158\n",
      "Data columns (total 15 columns):\n",
      " #   Column             Non-Null Count  Dtype  \n",
      "---  ------             --------------  -----  \n",
      " 0   Species            159 non-null    object \n",
      " 1   Weight             159 non-null    float64\n",
      " 2   Length1            159 non-null    float64\n",
      " 3   Length2            159 non-null    float64\n",
      " 4   Length3            159 non-null    float64\n",
      " 5   Height             159 non-null    float64\n",
      " 6   Width              159 non-null    float64\n",
      " 7   species_encoded    159 non-null    int64  \n",
      " 8   Species_Bream      159 non-null    bool   \n",
      " 9   Species_Parkki     159 non-null    bool   \n",
      " 10  Species_Perch      159 non-null    bool   \n",
      " 11  Species_Pike       159 non-null    bool   \n",
      " 12  Species_Roach      159 non-null    bool   \n",
      " 13  Species_Smelt      159 non-null    bool   \n",
      " 14  Species_Whitefish  159 non-null    bool   \n",
      "dtypes: bool(7), float64(6), int64(1), object(1)\n",
      "memory usage: 11.2+ KB\n"
     ]
    }
   ],
   "source": [
    "df_encoded.info()"
   ]
  },
  {
   "attachments": {},
   "cell_type": "markdown",
   "id": "fc338849",
   "metadata": {},
   "source": [
    "Next steps:\n",
    "1. die df_encoded graphisch darstellen\n",
    "2. das Model mit einem random split trainieren\n",
    "3. das Model mit einem artgerechten split trainieren\n",
    "4. Kommentare zu den Daten"
   ]
  },
  {
   "attachments": {},
   "cell_type": "markdown",
   "id": "6edd5b70",
   "metadata": {
    "papermill": {
     "duration": 0.020514,
     "end_time": "2023-06-01T21:41:58.906949",
     "exception": false,
     "start_time": "2023-06-01T21:41:58.886435",
     "status": "completed"
    },
    "tags": []
   },
   "source": [
    "# 4.**Exploratory data analysis**"
   ]
  },
  {
   "cell_type": "code",
   "execution_count": 65,
   "id": "05f9132e",
   "metadata": {
    "execution": {
     "iopub.execute_input": "2023-06-01T21:41:58.949907Z",
     "iopub.status.busy": "2023-06-01T21:41:58.949496Z",
     "iopub.status.idle": "2023-06-01T21:42:00.277735Z",
     "shell.execute_reply": "2023-06-01T21:42:00.276596Z"
    },
    "id": "YVcvLZguLERS",
    "outputId": "62f89fff-7c5a-4fea-8978-b955adcfd5ab",
    "papermill": {
     "duration": 1.353093,
     "end_time": "2023-06-01T21:42:00.280531",
     "exception": false,
     "start_time": "2023-06-01T21:41:58.927438",
     "status": "completed"
    },
    "tags": []
   },
   "outputs": [
    {
     "data": {
      "text/plain": [
       "<Axes: >"
      ]
     },
     "execution_count": 65,
     "metadata": {},
     "output_type": "execute_result"
    },
    {
     "data": {
      "image/png": "[encoded data removed]",
      "text/plain": [
       "<Figure size 400x400 with 2 Axes>"
      ]
     },
     "metadata": {},
     "output_type": "display_data"
    }
   ],
   "source": [
    "import matplotlib.pyplot  as plt \n",
    "import seaborn as sns \n",
    "plt.figure(figsize=[4, 4])\n",
    "sns.heatmap( df_encoded.isna())"
   ]
  },
  {
   "attachments": {},
   "cell_type": "markdown",
   "id": "ebc9458d",
   "metadata": {
    "papermill": {
     "duration": 0.023491,
     "end_time": "2023-06-01T21:42:01.781269",
     "exception": false,
     "start_time": "2023-06-01T21:42:01.757778",
     "status": "completed"
    },
    "tags": []
   },
   "source": [
    "# 8.weight correlation matrix"
   ]
  },
  {
   "cell_type": "code",
   "execution_count": 66,
   "id": "77aff4d5",
   "metadata": {},
   "outputs": [],
   "source": [
    "df_encoded = df_encoded.drop('Species', axis=1)"
   ]
  },
  {
   "cell_type": "code",
   "execution_count": 67,
   "id": "22f73995",
   "metadata": {
    "execution": {
     "iopub.execute_input": "2023-06-01T21:42:01.830864Z",
     "iopub.status.busy": "2023-06-01T21:42:01.830226Z",
     "iopub.status.idle": "2023-06-01T21:42:02.722630Z",
     "shell.execute_reply": "2023-06-01T21:42:02.721506Z"
    },
    "id": "nxzKIoX0atuc",
    "outputId": "60457988-f2d0-4398-8a42-158782df02ab",
    "papermill": {
     "duration": 0.92013,
     "end_time": "2023-06-01T21:42:02.725123",
     "exception": false,
     "start_time": "2023-06-01T21:42:01.804993",
     "status": "completed"
    },
    "tags": []
   },
   "outputs": [
    {
     "data": {
      "image/png": "[encoded data removed]",
      "text/plain": [
       "<Figure size 700x500 with 2 Axes>"
      ]
     },
     "metadata": {},
     "output_type": "display_data"
    }
   ],
   "source": [
    "corr = df_encoded.corr()\n",
    "k = 14 \n",
    "cols = corr.nlargest(k, 'Weight')['Weight'].index\n",
    "\n",
    "cm = df_encoded[cols].corr()\n",
    "\n",
    "with sns.axes_style(\"white\"):\n",
    "    f, ax = plt.subplots(figsize=(7,5))\n",
    "    sns.set(font_scale=0.8)\n",
    "    ax = sns.heatmap(cm,cbar=True, square=True, annot=True,fmt='0.2f',linewidths=.8,\n",
    "                     cmap=\"viridis_r\", annot_kws={'size': 8}, yticklabels=cols.values,\n",
    "                     xticklabels=cols.values)"
   ]
  },
  {
   "attachments": {},
   "cell_type": "markdown",
   "id": "2f945c67",
   "metadata": {},
   "source": [
    "> Actually it looks like the species isn't even a very important feature for the weight prediction. The highest correlation is achieved with the size-parameters length 1-3, width and height.\n",
    "\n",
    "> However, since it is not the task to reduce the parameter amount, I will keep them all."
   ]
  },
  {
   "cell_type": "code",
   "execution_count": 68,
   "id": "0889af4e",
   "metadata": {
    "execution": {
     "iopub.execute_input": "2023-06-01T21:42:02.778058Z",
     "iopub.status.busy": "2023-06-01T21:42:02.777095Z",
     "iopub.status.idle": "2023-06-01T21:42:02.783471Z",
     "shell.execute_reply": "2023-06-01T21:42:02.782695Z"
    },
    "id": "kn2O5FThhApf",
    "outputId": "92f3a12a-cd21-483e-a4a6-fc5d0731adf2",
    "papermill": {
     "duration": 0.035301,
     "end_time": "2023-06-01T21:42:02.785504",
     "exception": false,
     "start_time": "2023-06-01T21:42:02.750203",
     "status": "completed"
    },
    "tags": []
   },
   "outputs": [
    {
     "data": {
      "text/plain": [
       "Index(['Weight', 'Length1', 'Length2', 'Length3', 'Height', 'Width',\n",
       "       'species_encoded', 'Species_Bream', 'Species_Parkki', 'Species_Perch',\n",
       "       'Species_Pike', 'Species_Roach', 'Species_Smelt', 'Species_Whitefish'],\n",
       "      dtype='object')"
      ]
     },
     "execution_count": 68,
     "metadata": {},
     "output_type": "execute_result"
    }
   ],
   "source": [
    "df_encoded.columns"
   ]
  },
  {
   "attachments": {},
   "cell_type": "markdown",
   "id": "1a8b8abb",
   "metadata": {},
   "source": [
    "---"
   ]
  },
  {
   "attachments": {},
   "cell_type": "markdown",
   "id": "ce0f3a4a",
   "metadata": {},
   "source": [
    "# **Task 1**"
   ]
  },
  {
   "cell_type": "code",
   "execution_count": 69,
   "id": "f3571212",
   "metadata": {},
   "outputs": [],
   "source": [
    "df = df_encoded.copy()"
   ]
  },
  {
   "attachments": {},
   "cell_type": "markdown",
   "id": "bde8f6fb",
   "metadata": {
    "papermill": {
     "duration": 0.025599,
     "end_time": "2023-06-01T21:42:03.012131",
     "exception": false,
     "start_time": "2023-06-01T21:42:02.986532",
     "status": "completed"
    },
    "tags": []
   },
   "source": [
    "1. **Randomly split dataset with 70/30 training and test dataset**"
   ]
  },
  {
   "cell_type": "code",
   "execution_count": 70,
   "id": "38286c83",
   "metadata": {
    "execution": {
     "iopub.execute_input": "2023-06-01T21:42:03.065985Z",
     "iopub.status.busy": "2023-06-01T21:42:03.065092Z",
     "iopub.status.idle": "2023-06-01T21:42:03.072127Z",
     "shell.execute_reply": "2023-06-01T21:42:03.071291Z"
    },
    "id": "H4q1n7R9nLDb",
    "papermill": {
     "duration": 0.03668,
     "end_time": "2023-06-01T21:42:03.074502",
     "exception": false,
     "start_time": "2023-06-01T21:42:03.037822",
     "status": "completed"
    },
    "tags": []
   },
   "outputs": [],
   "source": [
    "X = df.drop(['Weight', 'species_encoded'],axis=1) #test data \n",
    "\n",
    "y = df['Weight']"
   ]
  },
  {
   "cell_type": "code",
   "execution_count": 71,
   "id": "050a0595",
   "metadata": {
    "execution": {
     "iopub.execute_input": "2023-06-01T21:42:03.179193Z",
     "iopub.status.busy": "2023-06-01T21:42:03.178431Z",
     "iopub.status.idle": "2023-06-01T21:42:03.450399Z",
     "shell.execute_reply": "2023-06-01T21:42:03.449202Z"
    },
    "id": "aPpJ14EHdTRl",
    "papermill": {
     "duration": 0.30172,
     "end_time": "2023-06-01T21:42:03.453160",
     "exception": false,
     "start_time": "2023-06-01T21:42:03.151440",
     "status": "completed"
    },
    "tags": []
   },
   "outputs": [],
   "source": [
    "from sklearn.model_selection import train_test_split\n",
    "x_train,x_test,y_train,y_test=train_test_split(X,y,test_size=0.3, random_state=2)"
   ]
  },
  {
   "cell_type": "code",
   "execution_count": 72,
   "id": "e764ba88",
   "metadata": {
    "execution": {
     "iopub.execute_input": "2023-06-01T21:42:03.506165Z",
     "iopub.status.busy": "2023-06-01T21:42:03.505730Z",
     "iopub.status.idle": "2023-06-01T21:42:03.534028Z",
     "shell.execute_reply": "2023-06-01T21:42:03.532892Z"
    },
    "id": "hFLaNUdc3qqG",
    "outputId": "f4ad4518-5c04-48ee-d53e-4b89918478ed",
    "papermill": {
     "duration": 0.057528,
     "end_time": "2023-06-01T21:42:03.536269",
     "exception": false,
     "start_time": "2023-06-01T21:42:03.478741",
     "status": "completed"
    },
    "tags": []
   },
   "outputs": [
    {
     "data": {
      "text/html": [
       "<div>\n",
       "<style scoped>\n",
       "    .dataframe tbody tr th:only-of-type {\n",
       "        vertical-align: middle;\n",
       "    }\n",
       "\n",
       "    .dataframe tbody tr th {\n",
       "        vertical-align: top;\n",
       "    }\n",
       "\n",
       "    .dataframe thead th {\n",
       "        text-align: right;\n",
       "    }\n",
       "</style>\n",
       "<table border=\"1\" class=\"dataframe\">\n",
       "  <thead>\n",
       "    <tr style=\"text-align: right;\">\n",
       "      <th></th>\n",
       "      <th>Length1</th>\n",
       "      <th>Length2</th>\n",
       "      <th>Length3</th>\n",
       "      <th>Height</th>\n",
       "      <th>Width</th>\n",
       "      <th>Species_Bream</th>\n",
       "      <th>Species_Parkki</th>\n",
       "      <th>Species_Perch</th>\n",
       "      <th>Species_Pike</th>\n",
       "      <th>Species_Roach</th>\n",
       "      <th>Species_Smelt</th>\n",
       "      <th>Species_Whitefish</th>\n",
       "    </tr>\n",
       "  </thead>\n",
       "  <tbody>\n",
       "    <tr>\n",
       "      <th>53</th>\n",
       "      <td>25.0</td>\n",
       "      <td>27.0</td>\n",
       "      <td>30.6</td>\n",
       "      <td>8.5680</td>\n",
       "      <td>4.7736</td>\n",
       "      <td>False</td>\n",
       "      <td>False</td>\n",
       "      <td>False</td>\n",
       "      <td>False</td>\n",
       "      <td>True</td>\n",
       "      <td>False</td>\n",
       "      <td>False</td>\n",
       "    </tr>\n",
       "    <tr>\n",
       "      <th>28</th>\n",
       "      <td>32.8</td>\n",
       "      <td>36.0</td>\n",
       "      <td>41.6</td>\n",
       "      <td>16.8896</td>\n",
       "      <td>6.1984</td>\n",
       "      <td>True</td>\n",
       "      <td>False</td>\n",
       "      <td>False</td>\n",
       "      <td>False</td>\n",
       "      <td>False</td>\n",
       "      <td>False</td>\n",
       "      <td>False</td>\n",
       "    </tr>\n",
       "    <tr>\n",
       "      <th>84</th>\n",
       "      <td>19.0</td>\n",
       "      <td>21.0</td>\n",
       "      <td>22.5</td>\n",
       "      <td>5.6925</td>\n",
       "      <td>3.6675</td>\n",
       "      <td>False</td>\n",
       "      <td>False</td>\n",
       "      <td>True</td>\n",
       "      <td>False</td>\n",
       "      <td>False</td>\n",
       "      <td>False</td>\n",
       "      <td>False</td>\n",
       "    </tr>\n",
       "    <tr>\n",
       "      <th>0</th>\n",
       "      <td>23.2</td>\n",
       "      <td>25.4</td>\n",
       "      <td>30.0</td>\n",
       "      <td>11.5200</td>\n",
       "      <td>4.0200</td>\n",
       "      <td>True</td>\n",
       "      <td>False</td>\n",
       "      <td>False</td>\n",
       "      <td>False</td>\n",
       "      <td>False</td>\n",
       "      <td>False</td>\n",
       "      <td>False</td>\n",
       "    </tr>\n",
       "    <tr>\n",
       "      <th>27</th>\n",
       "      <td>32.7</td>\n",
       "      <td>36.0</td>\n",
       "      <td>41.5</td>\n",
       "      <td>16.5170</td>\n",
       "      <td>5.8515</td>\n",
       "      <td>True</td>\n",
       "      <td>False</td>\n",
       "      <td>False</td>\n",
       "      <td>False</td>\n",
       "      <td>False</td>\n",
       "      <td>False</td>\n",
       "      <td>False</td>\n",
       "    </tr>\n",
       "    <tr>\n",
       "      <th>...</th>\n",
       "      <td>...</td>\n",
       "      <td>...</td>\n",
       "      <td>...</td>\n",
       "      <td>...</td>\n",
       "      <td>...</td>\n",
       "      <td>...</td>\n",
       "      <td>...</td>\n",
       "      <td>...</td>\n",
       "      <td>...</td>\n",
       "      <td>...</td>\n",
       "      <td>...</td>\n",
       "      <td>...</td>\n",
       "    </tr>\n",
       "    <tr>\n",
       "      <th>75</th>\n",
       "      <td>15.0</td>\n",
       "      <td>16.2</td>\n",
       "      <td>17.2</td>\n",
       "      <td>4.5924</td>\n",
       "      <td>2.6316</td>\n",
       "      <td>False</td>\n",
       "      <td>False</td>\n",
       "      <td>True</td>\n",
       "      <td>False</td>\n",
       "      <td>False</td>\n",
       "      <td>False</td>\n",
       "      <td>False</td>\n",
       "    </tr>\n",
       "    <tr>\n",
       "      <th>43</th>\n",
       "      <td>20.4</td>\n",
       "      <td>22.0</td>\n",
       "      <td>24.7</td>\n",
       "      <td>5.8045</td>\n",
       "      <td>3.7544</td>\n",
       "      <td>False</td>\n",
       "      <td>False</td>\n",
       "      <td>False</td>\n",
       "      <td>False</td>\n",
       "      <td>True</td>\n",
       "      <td>False</td>\n",
       "      <td>False</td>\n",
       "    </tr>\n",
       "    <tr>\n",
       "      <th>22</th>\n",
       "      <td>31.5</td>\n",
       "      <td>34.5</td>\n",
       "      <td>39.7</td>\n",
       "      <td>15.5227</td>\n",
       "      <td>5.2801</td>\n",
       "      <td>True</td>\n",
       "      <td>False</td>\n",
       "      <td>False</td>\n",
       "      <td>False</td>\n",
       "      <td>False</td>\n",
       "      <td>False</td>\n",
       "      <td>False</td>\n",
       "    </tr>\n",
       "    <tr>\n",
       "      <th>72</th>\n",
       "      <td>7.5</td>\n",
       "      <td>8.4</td>\n",
       "      <td>8.8</td>\n",
       "      <td>2.1120</td>\n",
       "      <td>1.4080</td>\n",
       "      <td>False</td>\n",
       "      <td>False</td>\n",
       "      <td>True</td>\n",
       "      <td>False</td>\n",
       "      <td>False</td>\n",
       "      <td>False</td>\n",
       "      <td>False</td>\n",
       "    </tr>\n",
       "    <tr>\n",
       "      <th>15</th>\n",
       "      <td>29.4</td>\n",
       "      <td>32.0</td>\n",
       "      <td>37.2</td>\n",
       "      <td>15.4380</td>\n",
       "      <td>5.5800</td>\n",
       "      <td>True</td>\n",
       "      <td>False</td>\n",
       "      <td>False</td>\n",
       "      <td>False</td>\n",
       "      <td>False</td>\n",
       "      <td>False</td>\n",
       "      <td>False</td>\n",
       "    </tr>\n",
       "  </tbody>\n",
       "</table>\n",
       "<p>111 rows × 12 columns</p>\n",
       "</div>"
      ],
      "text/plain": [
       "    Length1  Length2  Length3   Height   Width  Species_Bream  Species_Parkki   \n",
       "53     25.0     27.0     30.6   8.5680  4.7736          False           False  \\\n",
       "28     32.8     36.0     41.6  16.8896  6.1984           True           False   \n",
       "84     19.0     21.0     22.5   5.6925  3.6675          False           False   \n",
       "0      23.2     25.4     30.0  11.5200  4.0200           True           False   \n",
       "27     32.7     36.0     41.5  16.5170  5.8515           True           False   \n",
       "..      ...      ...      ...      ...     ...            ...             ...   \n",
       "75     15.0     16.2     17.2   4.5924  2.6316          False           False   \n",
       "43     20.4     22.0     24.7   5.8045  3.7544          False           False   \n",
       "22     31.5     34.5     39.7  15.5227  5.2801           True           False   \n",
       "72      7.5      8.4      8.8   2.1120  1.4080          False           False   \n",
       "15     29.4     32.0     37.2  15.4380  5.5800           True           False   \n",
       "\n",
       "    Species_Perch  Species_Pike  Species_Roach  Species_Smelt   \n",
       "53          False         False           True          False  \\\n",
       "28          False         False          False          False   \n",
       "84           True         False          False          False   \n",
       "0           False         False          False          False   \n",
       "27          False         False          False          False   \n",
       "..            ...           ...            ...            ...   \n",
       "75           True         False          False          False   \n",
       "43          False         False           True          False   \n",
       "22          False         False          False          False   \n",
       "72           True         False          False          False   \n",
       "15          False         False          False          False   \n",
       "\n",
       "    Species_Whitefish  \n",
       "53              False  \n",
       "28              False  \n",
       "84              False  \n",
       "0               False  \n",
       "27              False  \n",
       "..                ...  \n",
       "75              False  \n",
       "43              False  \n",
       "22              False  \n",
       "72              False  \n",
       "15              False  \n",
       "\n",
       "[111 rows x 12 columns]"
      ]
     },
     "execution_count": 72,
     "metadata": {},
     "output_type": "execute_result"
    }
   ],
   "source": [
    "x_train"
   ]
  },
  {
   "cell_type": "code",
   "execution_count": 73,
   "id": "a3812de5",
   "metadata": {
    "execution": {
     "iopub.execute_input": "2023-06-01T21:42:03.589927Z",
     "iopub.status.busy": "2023-06-01T21:42:03.589501Z",
     "iopub.status.idle": "2023-06-01T21:42:03.596041Z",
     "shell.execute_reply": "2023-06-01T21:42:03.594803Z"
    },
    "id": "wY0mSZAjxmoi",
    "outputId": "121ff5b5-78bd-433a-e12e-7e65e3bd5667",
    "papermill": {
     "duration": 0.036073,
     "end_time": "2023-06-01T21:42:03.598145",
     "exception": false,
     "start_time": "2023-06-01T21:42:03.562072",
     "status": "completed"
    },
    "tags": []
   },
   "outputs": [
    {
     "name": "stdout",
     "output_type": "stream",
     "text": [
      "Test Data =  (48, 12)\n",
      "Train Data =  (111, 12)\n",
      "Target Train =  (111,)\n",
      "Target Test =  (48,)\n"
     ]
    }
   ],
   "source": [
    "print(\"Test Data = \",x_test.shape)\n",
    "print(\"Train Data = \",x_train.shape)\n",
    "print(\"Target Train = \",y_train.shape)\n",
    "print(\"Target Test = \",y_test.shape)"
   ]
  },
  {
   "cell_type": "code",
   "execution_count": 74,
   "id": "0fb06bfb",
   "metadata": {
    "execution": {
     "iopub.execute_input": "2023-06-01T21:42:03.651655Z",
     "iopub.status.busy": "2023-06-01T21:42:03.650889Z",
     "iopub.status.idle": "2023-06-01T21:42:03.660408Z",
     "shell.execute_reply": "2023-06-01T21:42:03.659312Z"
    },
    "id": "K8XQa8u73wDM",
    "outputId": "44de551c-6532-434d-b38a-ba067ed125a6",
    "papermill": {
     "duration": 0.038829,
     "end_time": "2023-06-01T21:42:03.662578",
     "exception": false,
     "start_time": "2023-06-01T21:42:03.623749",
     "status": "completed"
    },
    "tags": []
   },
   "outputs": [
    {
     "data": {
      "text/plain": [
       "53    272.0\n",
       "28    850.0\n",
       "84    125.0\n",
       "0     242.0\n",
       "27    714.0\n",
       "      ...  \n",
       "75     51.5\n",
       "43    150.0\n",
       "22    620.0\n",
       "72      5.9\n",
       "15    600.0\n",
       "Name: Weight, Length: 111, dtype: float64"
      ]
     },
     "execution_count": 74,
     "metadata": {},
     "output_type": "execute_result"
    }
   ],
   "source": [
    "y_train"
   ]
  },
  {
   "cell_type": "code",
   "execution_count": 75,
   "id": "add62f07",
   "metadata": {
    "execution": {
     "iopub.execute_input": "2023-06-01T21:42:03.716224Z",
     "iopub.status.busy": "2023-06-01T21:42:03.715795Z",
     "iopub.status.idle": "2023-06-01T21:42:03.731920Z",
     "shell.execute_reply": "2023-06-01T21:42:03.730693Z"
    },
    "id": "ZqtQFbE-rZGQ",
    "papermill": {
     "duration": 0.046129,
     "end_time": "2023-06-01T21:42:03.734469",
     "exception": false,
     "start_time": "2023-06-01T21:42:03.688340",
     "status": "completed"
    },
    "tags": []
   },
   "outputs": [],
   "source": [
    "from sklearn.preprocessing import StandardScaler \n",
    "# Standard Scaler\n",
    "std_scale = StandardScaler()\n",
    "X_train = std_scale.fit_transform(x_train)\n",
    "#X_train = pd.DataFrame(X_train, columns=df.columns)\n",
    "\n",
    "X_test = std_scale.transform(x_test)\n",
    "#X_test = pd.DataFrame(X_test, columns=df.columns)"
   ]
  },
  {
   "cell_type": "code",
   "execution_count": 76,
   "id": "f5a71328",
   "metadata": {
    "execution": {
     "iopub.execute_input": "2023-06-01T21:42:03.787643Z",
     "iopub.status.busy": "2023-06-01T21:42:03.787179Z",
     "iopub.status.idle": "2023-06-01T21:42:03.794893Z",
     "shell.execute_reply": "2023-06-01T21:42:03.793884Z"
    },
    "id": "WExHOEG8omPq",
    "outputId": "4b5cb843-f19a-4e1a-c8b1-49ee66a0323e",
    "papermill": {
     "duration": 0.036899,
     "end_time": "2023-06-01T21:42:03.796987",
     "exception": false,
     "start_time": "2023-06-01T21:42:03.760088",
     "status": "completed"
    },
    "tags": []
   },
   "outputs": [
    {
     "data": {
      "text/plain": [
       "array([[-0.04108946, -0.04912825,  0.02913045, ...,  2.74562589,\n",
       "        -0.33166248, -0.23904572],\n",
       "       [ 0.74771885,  0.79706347,  0.97509544, ..., -0.36421568,\n",
       "        -0.33166248, -0.23904572],\n",
       "       [-0.64786508, -0.61325606, -0.66744377, ..., -0.36421568,\n",
       "        -0.33166248, -0.23904572],\n",
       "       ...,\n",
       "       [ 0.6162508 ,  0.65603152,  0.81170149, ..., -0.36421568,\n",
       "        -0.33166248, -0.23904572],\n",
       "       [-1.81085169, -1.79792446, -1.84560016, ..., -0.36421568,\n",
       "        -0.33166248, -0.23904572],\n",
       "       [ 0.40387933,  0.42097826,  0.59670945, ..., -0.36421568,\n",
       "        -0.33166248, -0.23904572]])"
      ]
     },
     "execution_count": 76,
     "metadata": {},
     "output_type": "execute_result"
    }
   ],
   "source": [
    "X_train"
   ]
  },
  {
   "cell_type": "code",
   "execution_count": 77,
   "id": "30b0b97b",
   "metadata": {
    "execution": {
     "iopub.execute_input": "2023-06-01T21:42:03.850205Z",
     "iopub.status.busy": "2023-06-01T21:42:03.849752Z",
     "iopub.status.idle": "2023-06-01T21:42:03.857564Z",
     "shell.execute_reply": "2023-06-01T21:42:03.856408Z"
    },
    "id": "Aj2YQryYopn-",
    "outputId": "ea5389a9-c86b-4d92-b7e6-721764299469",
    "papermill": {
     "duration": 0.037225,
     "end_time": "2023-06-01T21:42:03.859951",
     "exception": false,
     "start_time": "2023-06-01T21:42:03.822726",
     "status": "completed"
    },
    "tags": []
   },
   "outputs": [
    {
     "data": {
      "text/plain": [
       "array([[ 3.73540547e-01,  3.73967611e-01,  5.27911993e-01,\n",
       "         1.10689631e+00,  4.19855569e-03,  1.90394328e+00,\n",
       "        -2.78693206e-01, -7.80189498e-01, -2.59437261e-01,\n",
       "        -3.64215680e-01, -3.31662479e-01, -2.39045722e-01],\n",
       "       [ 9.03785909e-02,  1.38914356e-01,  2.78521223e-01,\n",
       "         8.72325926e-01,  5.48173145e-02,  1.90394328e+00,\n",
       "        -2.78693206e-01, -7.80189498e-01, -2.59437261e-01,\n",
       "        -3.64215680e-01, -3.31662479e-01, -2.39045722e-01],\n",
       "       [-1.41644753e+00, -1.45944778e+00, -1.46721417e+00,\n",
       "        -1.52661888e+00, -1.85834037e+00, -5.25225731e-01,\n",
       "        -2.78693206e-01, -7.80189498e-01, -2.59437261e-01,\n",
       "        -3.64215680e-01,  3.01511345e+00, -2.39045722e-01],\n",
       "       [ 1.40943226e-01,  2.04729267e-01,  3.64518041e-01,\n",
       "         1.20268909e+00,  5.30922898e-01,  1.90394328e+00,\n",
       "        -2.78693206e-01, -7.80189498e-01, -2.59437261e-01,\n",
       "        -3.64215680e-01, -3.31662479e-01, -2.39045722e-01],\n",
       "       [ 6.36476649e-01,  6.09020865e-01,  6.48307537e-01,\n",
       "        -7.28140576e-01, -1.17286466e-01, -5.25225731e-01,\n",
       "        -2.78693206e-01, -7.80189498e-01,  3.85449645e+00,\n",
       "        -3.64215680e-01, -3.31662479e-01, -2.39045722e-01],\n",
       "       [ 1.47584959e+00,  1.40820193e+00,  1.31048303e+00,\n",
       "        -3.69812212e-01, -2.21231989e-02, -5.25225731e-01,\n",
       "        -2.78693206e-01, -7.80189498e-01,  3.85449645e+00,\n",
       "        -3.64215680e-01, -3.31662479e-01, -2.39045722e-01],\n",
       "       [-1.42218730e-01, -1.43149550e-01, -1.08464454e-01,\n",
       "         5.61905349e-01, -7.33204578e-02, -5.25225731e-01,\n",
       "         3.58817502e+00, -7.80189498e-01, -2.59437261e-01,\n",
       "        -3.64215680e-01, -3.31662479e-01, -2.39045722e-01],\n",
       "       [ 3.09391791e+00,  3.05357471e+00,  2.90142415e+00,\n",
       "         1.58951179e-01,  1.03161474e+00, -5.25225731e-01,\n",
       "        -2.78693206e-01, -7.80189498e-01,  3.85449645e+00,\n",
       "        -3.64215680e-01, -3.31662479e-01, -2.39045722e-01],\n",
       "       [ 8.18509335e-01,  8.91084771e-01,  1.06109226e+00,\n",
       "         2.29155422e+00,  1.29714628e+00,  1.90394328e+00,\n",
       "        -2.78693206e-01, -7.80189498e-01, -2.59437261e-01,\n",
       "        -3.64215680e-01, -3.31662479e-01, -2.39045722e-01],\n",
       "       [ 1.67810813e+00,  1.64325519e+00,  1.52547507e+00,\n",
       "        -4.42745094e-01,  3.09646609e-01, -5.25225731e-01,\n",
       "        -2.78693206e-01, -7.80189498e-01,  3.85449645e+00,\n",
       "        -3.64215680e-01, -3.31662479e-01, -2.39045722e-01],\n",
       "       [ 1.58709179e+00,  1.54923388e+00,  1.40507953e+00,\n",
       "         8.17352766e-01,  1.87148118e+00, -5.25225731e-01,\n",
       "        -2.78693206e-01,  1.28173989e+00, -2.59437261e-01,\n",
       "        -3.64215680e-01, -3.31662479e-01, -2.39045722e-01],\n",
       "       [ 8.69073970e-01,  7.97063469e-01,  6.91305946e-01,\n",
       "         3.88940462e-01,  1.37686360e+00, -5.25225731e-01,\n",
       "        -2.78693206e-01,  1.28173989e+00, -2.59437261e-01,\n",
       "        -3.64215680e-01, -3.31662479e-01, -2.39045722e-01],\n",
       "       [ 1.79946325e+00,  1.73727649e+00,  1.58567285e+00,\n",
       "        -2.53119602e-01,  2.94605606e-01, -5.25225731e-01,\n",
       "        -2.78693206e-01, -7.80189498e-01,  3.85449645e+00,\n",
       "        -3.64215680e-01, -3.31662479e-01, -2.39045722e-01],\n",
       "       [-6.17526299e-01, -5.85049668e-01, -6.41644721e-01,\n",
       "        -5.74024281e-01, -4.78270529e-01, -5.25225731e-01,\n",
       "        -2.78693206e-01,  1.28173989e+00, -2.59437261e-01,\n",
       "        -3.64215680e-01, -3.31662479e-01, -2.39045722e-01],\n",
       "       [-4.96171175e-01, -5.19234757e-01, -5.12649495e-01,\n",
       "        -5.17068258e-01, -4.70287227e-01, -5.25225731e-01,\n",
       "        -2.78693206e-01, -7.80189498e-01, -2.59437261e-01,\n",
       "         2.74562589e+00, -3.31662479e-01, -2.39045722e-01],\n",
       "       [-3.44477270e-01, -3.31192153e-01, -2.63258725e-01,\n",
       "        -3.11830572e-01, -3.04026298e-01, -5.25225731e-01,\n",
       "        -2.78693206e-01, -7.80189498e-01, -2.59437261e-01,\n",
       "         2.74562589e+00, -3.31662479e-01, -2.39045722e-01],\n",
       "       [ 1.40943226e-01,  2.04729267e-01,  3.81717404e-01,\n",
       "         1.07115919e+00,  3.27811512e-01,  1.90394328e+00,\n",
       "        -2.78693206e-01, -7.80189498e-01, -2.59437261e-01,\n",
       "        -3.64215680e-01, -3.31662479e-01, -2.39045722e-01],\n",
       "       [ 6.56702503e-01,  7.03042167e-01,  8.80498944e-01,\n",
       "         1.67242243e+00,  7.10547179e-01,  1.90394328e+00,\n",
       "        -2.78693206e-01, -7.80189498e-01, -2.59437261e-01,\n",
       "        -3.64215680e-01, -3.31662479e-01, -2.39045722e-01],\n",
       "       [ 6.46589576e-01,  7.03042167e-01,  8.89098626e-01,\n",
       "         1.49649464e+00,  1.02386283e+00,  1.90394328e+00,\n",
       "        -2.78693206e-01, -7.80189498e-01, -2.59437261e-01,\n",
       "        -3.64215680e-01, -3.31662479e-01, -2.39045722e-01],\n",
       "       [ 4.13992255e-01,  3.92771871e-01,  4.07516449e-01,\n",
       "         1.32740924e-01,  5.75178155e-01, -5.25225731e-01,\n",
       "        -2.78693206e-01, -7.80189498e-01, -2.59437261e-01,\n",
       "         2.74562589e+00, -3.31662479e-01, -2.39045722e-01],\n",
       "       [-6.37752153e-01, -6.32060319e-01, -6.15845676e-01,\n",
       "        -6.23322350e-01, -5.58277093e-01, -5.25225731e-01,\n",
       "        -2.78693206e-01, -7.80189498e-01, -2.59437261e-01,\n",
       "         2.74562589e+00, -3.31662479e-01, -2.39045722e-01],\n",
       "       [-1.26475363e+00, -1.26200304e+00, -1.20922371e+00,\n",
       "        -1.08382512e+00, -1.21065166e+00, -5.25225731e-01,\n",
       "        -2.78693206e-01, -7.80189498e-01, -2.59437261e-01,\n",
       "         2.74562589e+00, -3.31662479e-01, -2.39045722e-01],\n",
       "       [-1.92783365e-01, -1.80758070e-01, -2.80458089e-01,\n",
       "        -5.33683281e-01, -7.04279573e-02, -5.25225731e-01,\n",
       "        -2.78693206e-01,  1.28173989e+00, -2.59437261e-01,\n",
       "        -3.64215680e-01, -3.31662479e-01, -2.39045722e-01],\n",
       "       [-6.07413372e-01, -6.13256059e-01, -5.64247585e-01,\n",
       "        -6.35424650e-01, -6.16937003e-01, -5.25225731e-01,\n",
       "        -2.78693206e-01, -7.80189498e-01, -2.59437261e-01,\n",
       "         2.74562589e+00, -3.31662479e-01, -2.39045722e-01],\n",
       "       [ 6.46589576e-01,  7.03042167e-01,  9.14897671e-01,\n",
       "         1.69965830e+00,  9.79086926e-01,  1.90394328e+00,\n",
       "        -2.78693206e-01, -7.80189498e-01, -2.59437261e-01,\n",
       "        -3.64215680e-01, -3.31662479e-01, -2.39045722e-01],\n",
       "       [ 1.02076788e+00,  9.85106073e-01,  8.80498944e-01,\n",
       "        -3.67533060e-01,  1.24815827e-01, -5.25225731e-01,\n",
       "        -2.78693206e-01, -7.80189498e-01,  3.85449645e+00,\n",
       "        -3.64215680e-01, -3.31662479e-01, -2.39045722e-01],\n",
       "       [-7.08542642e-01, -7.07277361e-01, -6.76043448e-01,\n",
       "        -2.23048956e-03, -6.17804753e-01, -5.25225731e-01,\n",
       "         3.58817502e+00, -7.80189498e-01, -2.59437261e-01,\n",
       "        -3.64215680e-01, -3.31662479e-01, -2.39045722e-01],\n",
       "       [-4.45606540e-01, -4.25213455e-01, -4.95450132e-01,\n",
       "        -8.39659510e-01, -4.25048519e-01, -5.25225731e-01,\n",
       "        -2.78693206e-01,  1.28173989e+00, -2.59437261e-01,\n",
       "        -3.64215680e-01, -3.31662479e-01, -2.39045722e-01],\n",
       "       [-4.96171175e-01, -4.72224106e-01, -5.38448540e-01,\n",
       "        -4.81034857e-01, -4.26205519e-01, -5.25225731e-01,\n",
       "        -2.78693206e-01,  1.28173989e+00, -2.59437261e-01,\n",
       "        -3.64215680e-01, -3.31662479e-01, -2.39045722e-01],\n",
       "       [-1.52331657e-01, -9.61388988e-02,  7.21288620e-02,\n",
       "         7.92054173e-01,  1.94004439e-01,  1.90394328e+00,\n",
       "        -2.78693206e-01, -7.80189498e-01, -2.59437261e-01,\n",
       "        -3.64215680e-01, -3.31662479e-01, -2.39045722e-01],\n",
       "       [ 1.49607544e+00,  1.50222323e+00,  1.35348144e+00,\n",
       "         8.43608604e-01,  2.18745794e+00, -5.25225731e-01,\n",
       "        -2.78693206e-01,  1.28173989e+00, -2.59437261e-01,\n",
       "        -3.64215680e-01, -3.31662479e-01, -2.39045722e-01],\n",
       "       [ 1.48596252e+00,  1.45521258e+00,  1.33628208e+00,\n",
       "        -2.54487093e-01,  4.44784233e-01, -5.25225731e-01,\n",
       "        -2.78693206e-01, -7.80189498e-01,  3.85449645e+00,\n",
       "        -3.64215680e-01, -3.31662479e-01, -2.39045722e-01],\n",
       "       [ 1.13201007e+00,  1.07912737e+00,  9.49296398e-01,\n",
       "         8.04247639e-01,  1.73009576e+00, -5.25225731e-01,\n",
       "        -2.78693206e-01,  1.28173989e+00, -2.59437261e-01,\n",
       "        -3.64215680e-01, -3.31662479e-01, -2.39045722e-01],\n",
       "       [ 1.47584959e+00,  1.40820193e+00,  1.31048303e+00,\n",
       "        -4.73513653e-01,  5.68420649e-02, -5.25225731e-01,\n",
       "        -2.78693206e-01, -7.80189498e-01,  3.85449645e+00,\n",
       "        -3.64215680e-01, -3.31662479e-01, -2.39045722e-01],\n",
       "       [-4.96171175e-01, -4.72224106e-01, -5.38448540e-01,\n",
       "        -6.94363535e-01, -4.26205519e-01, -5.25225731e-01,\n",
       "        -2.78693206e-01,  1.28173989e+00, -2.59437261e-01,\n",
       "        -3.64215680e-01, -3.31662479e-01, -2.39045722e-01],\n",
       "       [ 4.64556890e-01,  4.49184652e-01,  3.90317086e-01,\n",
       "        -7.60003128e-01, -5.69904945e-01, -5.25225731e-01,\n",
       "        -2.78693206e-01, -7.80189498e-01,  3.85449645e+00,\n",
       "        -3.64215680e-01, -3.31662479e-01, -2.39045722e-01],\n",
       "       [ 1.16234885e+00,  1.17314868e+00,  1.03529322e+00,\n",
       "         6.89674641e-01,  1.58836323e+00, -5.25225731e-01,\n",
       "        -2.78693206e-01,  1.28173989e+00, -2.59437261e-01,\n",
       "        -3.64215680e-01, -3.31662479e-01, -2.39045722e-01],\n",
       "       [ 4.03879328e-01,  4.20978262e-01,  5.96709447e-01,\n",
       "         1.37930062e+00,  4.68618437e-01,  1.90394328e+00,\n",
       "        -2.78693206e-01, -7.80189498e-01, -2.59437261e-01,\n",
       "        -3.64215680e-01, -3.31662479e-01, -2.39045722e-01],\n",
       "       [-4.96171175e-01, -4.72224106e-01, -4.26652678e-01,\n",
       "        -4.26016114e-01, -3.12645950e-01, -5.25225731e-01,\n",
       "        -2.78693206e-01, -7.80189498e-01, -2.59437261e-01,\n",
       "         2.74562589e+00, -3.31662479e-01, -2.39045722e-01],\n",
       "       [-2.83799708e-01, -2.74779372e-01, -3.49255542e-01,\n",
       "        -4.94390691e-01, -1.12774165e-01, -5.25225731e-01,\n",
       "        -2.78693206e-01,  1.28173989e+00, -2.59437261e-01,\n",
       "        -3.64215680e-01, -3.31662479e-01, -2.39045722e-01],\n",
       "       [-1.47712509e+00, -1.52526269e+00, -1.51881226e+00,\n",
       "        -1.57817331e+00, -1.77920156e+00, -5.25225731e-01,\n",
       "        -2.78693206e-01, -7.80189498e-01, -2.59437261e-01,\n",
       "        -3.64215680e-01,  3.01511345e+00, -2.39045722e-01],\n",
       "       [-7.99558985e-01, -8.01298663e-01, -7.70639947e-01,\n",
       "        -1.16324866e-01, -8.34568741e-01, -5.25225731e-01,\n",
       "         3.58817502e+00, -7.80189498e-01, -2.59437261e-01,\n",
       "        -3.64215680e-01, -3.31662479e-01, -2.39045722e-01],\n",
       "       [-4.10894602e-02, -9.61388988e-02, -1.94461271e-01,\n",
       "        -3.95338721e-01, -1.25385467e-01, -5.25225731e-01,\n",
       "        -2.78693206e-01,  1.28173989e+00, -2.59437261e-01,\n",
       "        -3.64215680e-01, -3.31662479e-01, -2.39045722e-01],\n",
       "       [-8.70349475e-01, -8.29505053e-01, -9.34033900e-01,\n",
       "        -8.44058274e-01, -7.15802670e-01, -5.25225731e-01,\n",
       "        -2.78693206e-01,  1.28173989e+00, -2.59437261e-01,\n",
       "        -3.64215680e-01, -3.31662479e-01, -2.39045722e-01],\n",
       "       [-1.42656046e+00, -1.47825204e+00, -1.47581385e+00,\n",
       "        -1.52445368e+00, -1.84821662e+00, -5.25225731e-01,\n",
       "        -2.78693206e-01, -7.80189498e-01, -2.59437261e-01,\n",
       "        -3.64215680e-01,  3.01511345e+00, -2.39045722e-01],\n",
       "       [ 1.96127009e+00,  1.92531909e+00,  1.80066489e+00,\n",
       "        -2.78646111e-01,  5.87326658e-01, -5.25225731e-01,\n",
       "        -2.78693206e-01, -7.80189498e-01,  3.85449645e+00,\n",
       "        -3.64215680e-01, -3.31662479e-01, -2.39045722e-01],\n",
       "       [ 9.29751532e-01,  8.91084771e-01,  7.77302763e-01,\n",
       "         3.80416432e-01,  1.16038886e+00, -5.25225731e-01,\n",
       "        -2.78693206e-01,  1.28173989e+00, -2.59437261e-01,\n",
       "        -3.64215680e-01, -3.31662479e-01, -2.39045722e-01],\n",
       "       [ 3.33088839e-01,  3.26956960e-01,  5.10712630e-01,\n",
       "         1.24642603e+00,  2.62556701e-01,  1.90394328e+00,\n",
       "        -2.78693206e-01, -7.80189498e-01, -2.59437261e-01,\n",
       "        -3.64215680e-01, -3.31662479e-01, -2.39045722e-01]])"
      ]
     },
     "execution_count": 77,
     "metadata": {},
     "output_type": "execute_result"
    }
   ],
   "source": [
    "X_test"
   ]
  },
  {
   "cell_type": "code",
   "execution_count": 78,
   "id": "d2302058",
   "metadata": {
    "execution": {
     "iopub.execute_input": "2023-06-01T21:42:03.914786Z",
     "iopub.status.busy": "2023-06-01T21:42:03.914412Z",
     "iopub.status.idle": "2023-06-01T21:42:03.923456Z",
     "shell.execute_reply": "2023-06-01T21:42:03.922370Z"
    },
    "id": "Hwn3SI2losgz",
    "outputId": "c8906b08-a553-4da9-f7de-bff20da1a5b4",
    "papermill": {
     "duration": 0.039115,
     "end_time": "2023-06-01T21:42:03.925568",
     "exception": false,
     "start_time": "2023-06-01T21:42:03.886453",
     "status": "completed"
    },
    "tags": []
   },
   "outputs": [
    {
     "data": {
      "text/plain": [
       "53    272.0\n",
       "28    850.0\n",
       "84    125.0\n",
       "0     242.0\n",
       "27    714.0\n",
       "      ...  \n",
       "75     51.5\n",
       "43    150.0\n",
       "22    620.0\n",
       "72      5.9\n",
       "15    600.0\n",
       "Name: Weight, Length: 111, dtype: float64"
      ]
     },
     "execution_count": 78,
     "metadata": {},
     "output_type": "execute_result"
    }
   ],
   "source": [
    "y_train"
   ]
  },
  {
   "attachments": {},
   "cell_type": "markdown",
   "id": "3a3d9411",
   "metadata": {
    "papermill": {
     "duration": 0.026779,
     "end_time": "2023-06-01T21:42:03.978930",
     "exception": false,
     "start_time": "2023-06-01T21:42:03.952151",
     "status": "completed"
    },
    "tags": []
   },
   "source": [
    "2. **Use linear regression, random forest model**\n"
   ]
  },
  {
   "cell_type": "code",
   "execution_count": 79,
   "id": "0041aba3",
   "metadata": {
    "execution": {
     "iopub.execute_input": "2023-06-01T21:42:04.033767Z",
     "iopub.status.busy": "2023-06-01T21:42:04.033364Z",
     "iopub.status.idle": "2023-06-01T21:42:04.185429Z",
     "shell.execute_reply": "2023-06-01T21:42:04.183804Z"
    },
    "id": "obA9pX6Po0Oq",
    "outputId": "0319cdfe-656a-4289-ffbd-46ee7ad4f407",
    "papermill": {
     "duration": 0.18389,
     "end_time": "2023-06-01T21:42:04.189448",
     "exception": false,
     "start_time": "2023-06-01T21:42:04.005558",
     "status": "completed"
    },
    "tags": []
   },
   "outputs": [
    {
     "data": {
      "text/html": [
       "<style>#sk-container-id-2 {color: black;background-color: white;}#sk-container-id-2 pre{padding: 0;}#sk-container-id-2 div.sk-toggleable {background-color: white;}#sk-container-id-2 label.sk-toggleable__label {cursor: pointer;display: block;width: 100%;margin-bottom: 0;padding: 0.3em;box-sizing: border-box;text-align: center;}#sk-container-id-2 label.sk-toggleable__label-arrow:before {content: \"▸\";float: left;margin-right: 0.25em;color: #696969;}#sk-container-id-2 label.sk-toggleable__label-arrow:hover:before {color: black;}#sk-container-id-2 div.sk-estimator:hover label.sk-toggleable__label-arrow:before {color: black;}#sk-container-id-2 div.sk-toggleable__content {max-height: 0;max-width: 0;overflow: hidden;text-align: left;background-color: #f0f8ff;}#sk-container-id-2 div.sk-toggleable__content pre {margin: 0.2em;color: black;border-radius: 0.25em;background-color: #f0f8ff;}#sk-container-id-2 input.sk-toggleable__control:checked~div.sk-toggleable__content {max-height: 200px;max-width: 100%;overflow: auto;}#sk-container-id-2 input.sk-toggleable__control:checked~label.sk-toggleable__label-arrow:before {content: \"▾\";}#sk-container-id-2 div.sk-estimator input.sk-toggleable__control:checked~label.sk-toggleable__label {background-color: #d4ebff;}#sk-container-id-2 div.sk-label input.sk-toggleable__control:checked~label.sk-toggleable__label {background-color: #d4ebff;}#sk-container-id-2 input.sk-hidden--visually {border: 0;clip: rect(1px 1px 1px 1px);clip: rect(1px, 1px, 1px, 1px);height: 1px;margin: -1px;overflow: hidden;padding: 0;position: absolute;width: 1px;}#sk-container-id-2 div.sk-estimator {font-family: monospace;background-color: #f0f8ff;border: 1px dotted black;border-radius: 0.25em;box-sizing: border-box;margin-bottom: 0.5em;}#sk-container-id-2 div.sk-estimator:hover {background-color: #d4ebff;}#sk-container-id-2 div.sk-parallel-item::after {content: \"\";width: 100%;border-bottom: 1px solid gray;flex-grow: 1;}#sk-container-id-2 div.sk-label:hover label.sk-toggleable__label {background-color: #d4ebff;}#sk-container-id-2 div.sk-serial::before {content: \"\";position: absolute;border-left: 1px solid gray;box-sizing: border-box;top: 0;bottom: 0;left: 50%;z-index: 0;}#sk-container-id-2 div.sk-serial {display: flex;flex-direction: column;align-items: center;background-color: white;padding-right: 0.2em;padding-left: 0.2em;position: relative;}#sk-container-id-2 div.sk-item {position: relative;z-index: 1;}#sk-container-id-2 div.sk-parallel {display: flex;align-items: stretch;justify-content: center;background-color: white;position: relative;}#sk-container-id-2 div.sk-item::before, #sk-container-id-2 div.sk-parallel-item::before {content: \"\";position: absolute;border-left: 1px solid gray;box-sizing: border-box;top: 0;bottom: 0;left: 50%;z-index: -1;}#sk-container-id-2 div.sk-parallel-item {display: flex;flex-direction: column;z-index: 1;position: relative;background-color: white;}#sk-container-id-2 div.sk-parallel-item:first-child::after {align-self: flex-end;width: 50%;}#sk-container-id-2 div.sk-parallel-item:last-child::after {align-self: flex-start;width: 50%;}#sk-container-id-2 div.sk-parallel-item:only-child::after {width: 0;}#sk-container-id-2 div.sk-dashed-wrapped {border: 1px dashed gray;margin: 0 0.4em 0.5em 0.4em;box-sizing: border-box;padding-bottom: 0.4em;background-color: white;}#sk-container-id-2 div.sk-label label {font-family: monospace;font-weight: bold;display: inline-block;line-height: 1.2em;}#sk-container-id-2 div.sk-label-container {text-align: center;}#sk-container-id-2 div.sk-container {/* jupyter's `normalize.less` sets `[hidden] { display: none; }` but bootstrap.min.css set `[hidden] { display: none !important; }` so we also need the `!important` here to be able to override the default hidden behavior on the sphinx rendered scikit-learn.org. See: https://github.com/scikit-learn/scikit-learn/issues/21755 */display: inline-block !important;position: relative;}#sk-container-id-2 div.sk-text-repr-fallback {display: none;}</style><div id=\"sk-container-id-2\" class=\"sk-top-container\"><div class=\"sk-text-repr-fallback\"><pre>LinearRegression()</pre><b>In a Jupyter environment, please rerun this cell to show the HTML representation or trust the notebook. <br />On GitHub, the HTML representation is unable to render, please try loading this page with nbviewer.org.</b></div><div class=\"sk-container\" hidden><div class=\"sk-item\"><div class=\"sk-estimator sk-toggleable\"><input class=\"sk-toggleable__control sk-hidden--visually\" id=\"sk-estimator-id-2\" type=\"checkbox\" checked><label for=\"sk-estimator-id-2\" class=\"sk-toggleable__label sk-toggleable__label-arrow\">LinearRegression</label><div class=\"sk-toggleable__content\"><pre>LinearRegression()</pre></div></div></div></div></div>"
      ],
      "text/plain": [
       "LinearRegression()"
      ]
     },
     "execution_count": 79,
     "metadata": {},
     "output_type": "execute_result"
    }
   ],
   "source": [
    "from sklearn.linear_model import LinearRegression\n",
    "LR = LinearRegression()\n",
    "LR.fit(X_train,y_train)"
   ]
  },
  {
   "cell_type": "code",
   "execution_count": 80,
   "id": "aa7f3282",
   "metadata": {
    "execution": {
     "iopub.execute_input": "2023-06-01T21:42:04.295482Z",
     "iopub.status.busy": "2023-06-01T21:42:04.294933Z",
     "iopub.status.idle": "2023-06-01T21:42:04.304135Z",
     "shell.execute_reply": "2023-06-01T21:42:04.302443Z"
    },
    "id": "qj3kC2igo_Zz",
    "papermill": {
     "duration": 0.061587,
     "end_time": "2023-06-01T21:42:04.308797",
     "exception": false,
     "start_time": "2023-06-01T21:42:04.247210",
     "status": "completed"
    },
    "tags": []
   },
   "outputs": [],
   "source": [
    "pred = LR.predict(X_test)"
   ]
  },
  {
   "attachments": {},
   "cell_type": "markdown",
   "id": "2628dc25",
   "metadata": {},
   "source": [
    "3. **calculate RMSE and R2 in the test set**\n"
   ]
  },
  {
   "cell_type": "code",
   "execution_count": 81,
   "id": "b25bdf9c",
   "metadata": {
    "execution": {
     "iopub.execute_input": "2023-06-01T21:42:04.423662Z",
     "iopub.status.busy": "2023-06-01T21:42:04.423262Z",
     "iopub.status.idle": "2023-06-01T21:42:04.430872Z",
     "shell.execute_reply": "2023-06-01T21:42:04.429754Z"
    },
    "id": "LMsHIpGNpMp5",
    "outputId": "69f29fc5-ff04-4501-bd53-d22a84e64555",
    "papermill": {
     "duration": 0.068322,
     "end_time": "2023-06-01T21:42:04.433083",
     "exception": false,
     "start_time": "2023-06-01T21:42:04.364761",
     "status": "completed"
    },
    "tags": []
   },
   "outputs": [
    {
     "name": "stdout",
     "output_type": "stream",
     "text": [
      "LineRegression r2_score : 0.9190213040666666\n"
     ]
    }
   ],
   "source": [
    "from sklearn.metrics import r2_score\n",
    "print('LineRegression r2_score :', r2_score(y_test, pred))"
   ]
  },
  {
   "attachments": {},
   "cell_type": "markdown",
   "id": "1a1ec2d9",
   "metadata": {},
   "source": [
    "SGDRegressor"
   ]
  },
  {
   "cell_type": "code",
   "execution_count": 82,
   "id": "57a8a47d",
   "metadata": {
    "execution": {
     "iopub.execute_input": "2023-06-01T21:42:04.544110Z",
     "iopub.status.busy": "2023-06-01T21:42:04.543224Z",
     "iopub.status.idle": "2023-06-01T21:42:04.590912Z",
     "shell.execute_reply": "2023-06-01T21:42:04.589325Z"
    },
    "id": "ds8hbNjh2hfF",
    "papermill": {
     "duration": 0.080775,
     "end_time": "2023-06-01T21:42:04.595714",
     "exception": false,
     "start_time": "2023-06-01T21:42:04.514939",
     "status": "completed"
    },
    "tags": []
   },
   "outputs": [],
   "source": [
    "from sklearn.metrics import mean_squared_error,r2_score\n",
    "from sklearn.linear_model import LinearRegression, SGDRegressor\n",
    "# Model\n",
    "sgd = SGDRegressor()\n",
    "sgd.fit(X_train, y_train)\n",
    "\n",
    "# Prediction\n",
    "pred2 = sgd.predict(X_test)"
   ]
  },
  {
   "cell_type": "code",
   "execution_count": 83,
   "id": "8428e44f",
   "metadata": {
    "execution": {
     "iopub.execute_input": "2023-06-01T21:42:04.711900Z",
     "iopub.status.busy": "2023-06-01T21:42:04.711449Z",
     "iopub.status.idle": "2023-06-01T21:42:04.719176Z",
     "shell.execute_reply": "2023-06-01T21:42:04.718249Z"
    },
    "id": "L3a2XaGC4UOd",
    "outputId": "35e39ab0-b0bb-47ad-a131-c5eccc8332a8",
    "papermill": {
     "duration": 0.0677,
     "end_time": "2023-06-01T21:42:04.721229",
     "exception": false,
     "start_time": "2023-06-01T21:42:04.653529",
     "status": "completed"
    },
    "tags": []
   },
   "outputs": [
    {
     "name": "stdout",
     "output_type": "stream",
     "text": [
      "MSE = 11220.918697846384\n",
      "R2 =  89.0 %\n"
     ]
    }
   ],
   "source": [
    "from numpy.ma.core import floor\n",
    "# Performance Measure\n",
    "sgd_mse = mean_squared_error(y_test, pred2)\n",
    "sgd_r2 = r2_score(y_test, pred2)\n",
    "\n",
    "print(\"MSE =\",sgd_mse)\n",
    "print(\"R2 = \",floor(sgd_r2*100),\"%\") "
   ]
  },
  {
   "attachments": {},
   "cell_type": "markdown",
   "id": "787414f1",
   "metadata": {
    "papermill": {
     "duration": 0.026731,
     "end_time": "2023-06-01T21:42:04.774644",
     "exception": false,
     "start_time": "2023-06-01T21:42:04.747913",
     "status": "completed"
    },
    "tags": []
   },
   "source": [
    "*Tune model parameters to get high accuracy*"
   ]
  },
  {
   "cell_type": "code",
   "execution_count": 84,
   "id": "dc34159c",
   "metadata": {
    "execution": {
     "iopub.execute_input": "2023-06-01T21:42:04.831681Z",
     "iopub.status.busy": "2023-06-01T21:42:04.830571Z",
     "iopub.status.idle": "2023-06-01T21:42:31.031609Z",
     "shell.execute_reply": "2023-06-01T21:42:31.030177Z"
    },
    "id": "91XP__Si98Wf",
    "outputId": "32ef9a8b-e70c-426f-fb59-52e56f44d702",
    "papermill": {
     "duration": 26.233902,
     "end_time": "2023-06-01T21:42:31.036161",
     "exception": false,
     "start_time": "2023-06-01T21:42:04.802259",
     "status": "completed"
    },
    "tags": []
   },
   "outputs": [
    {
     "name": "stdout",
     "output_type": "stream",
     "text": [
      "{'alpha': 0.01, 'learning_rate': 'constant', 'penalty': 'l2'}\n",
      "Mean squared error = 11427.211203909734\n",
      "R2 = 89 % \n"
     ]
    },
    {
     "name": "stderr",
     "output_type": "stream",
     "text": [
      "/opt/homebrew/lib/python3.11/site-packages/sklearn/linear_model/_stochastic_gradient.py:1548: ConvergenceWarning: Maximum number of iteration reached before convergence. Consider increasing max_iter to improve the fit.\n",
      "  warnings.warn(\n",
      "/opt/homebrew/lib/python3.11/site-packages/sklearn/linear_model/_stochastic_gradient.py:1548: ConvergenceWarning: Maximum number of iteration reached before convergence. Consider increasing max_iter to improve the fit.\n",
      "  warnings.warn(\n",
      "/opt/homebrew/lib/python3.11/site-packages/sklearn/linear_model/_stochastic_gradient.py:1548: ConvergenceWarning: Maximum number of iteration reached before convergence. Consider increasing max_iter to improve the fit.\n",
      "  warnings.warn(\n",
      "/opt/homebrew/lib/python3.11/site-packages/sklearn/linear_model/_stochastic_gradient.py:1548: ConvergenceWarning: Maximum number of iteration reached before convergence. Consider increasing max_iter to improve the fit.\n",
      "  warnings.warn(\n",
      "/opt/homebrew/lib/python3.11/site-packages/sklearn/linear_model/_stochastic_gradient.py:1548: ConvergenceWarning: Maximum number of iteration reached before convergence. Consider increasing max_iter to improve the fit.\n",
      "  warnings.warn(\n",
      "/opt/homebrew/lib/python3.11/site-packages/sklearn/linear_model/_stochastic_gradient.py:1548: ConvergenceWarning: Maximum number of iteration reached before convergence. Consider increasing max_iter to improve the fit.\n",
      "  warnings.warn(\n",
      "/opt/homebrew/lib/python3.11/site-packages/sklearn/linear_model/_stochastic_gradient.py:1548: ConvergenceWarning: Maximum number of iteration reached before convergence. Consider increasing max_iter to improve the fit.\n",
      "  warnings.warn(\n",
      "/opt/homebrew/lib/python3.11/site-packages/sklearn/linear_model/_stochastic_gradient.py:1548: ConvergenceWarning: Maximum number of iteration reached before convergence. Consider increasing max_iter to improve the fit.\n",
      "  warnings.warn(\n",
      "/opt/homebrew/lib/python3.11/site-packages/sklearn/linear_model/_stochastic_gradient.py:1548: ConvergenceWarning: Maximum number of iteration reached before convergence. Consider increasing max_iter to improve the fit.\n",
      "  warnings.warn(\n",
      "/opt/homebrew/lib/python3.11/site-packages/sklearn/linear_model/_stochastic_gradient.py:1548: ConvergenceWarning: Maximum number of iteration reached before convergence. Consider increasing max_iter to improve the fit.\n",
      "  warnings.warn(\n",
      "/opt/homebrew/lib/python3.11/site-packages/sklearn/linear_model/_stochastic_gradient.py:1548: ConvergenceWarning: Maximum number of iteration reached before convergence. Consider increasing max_iter to improve the fit.\n",
      "  warnings.warn(\n",
      "/opt/homebrew/lib/python3.11/site-packages/sklearn/linear_model/_stochastic_gradient.py:1548: ConvergenceWarning: Maximum number of iteration reached before convergence. Consider increasing max_iter to improve the fit.\n",
      "  warnings.warn(\n",
      "/opt/homebrew/lib/python3.11/site-packages/sklearn/linear_model/_stochastic_gradient.py:1548: ConvergenceWarning: Maximum number of iteration reached before convergence. Consider increasing max_iter to improve the fit.\n",
      "  warnings.warn(\n",
      "/opt/homebrew/lib/python3.11/site-packages/sklearn/linear_model/_stochastic_gradient.py:1548: ConvergenceWarning: Maximum number of iteration reached before convergence. Consider increasing max_iter to improve the fit.\n",
      "  warnings.warn(\n",
      "/opt/homebrew/lib/python3.11/site-packages/sklearn/linear_model/_stochastic_gradient.py:1548: ConvergenceWarning: Maximum number of iteration reached before convergence. Consider increasing max_iter to improve the fit.\n",
      "  warnings.warn(\n",
      "/opt/homebrew/lib/python3.11/site-packages/sklearn/linear_model/_stochastic_gradient.py:1548: ConvergenceWarning: Maximum number of iteration reached before convergence. Consider increasing max_iter to improve the fit.\n",
      "  warnings.warn(\n",
      "/opt/homebrew/lib/python3.11/site-packages/sklearn/linear_model/_stochastic_gradient.py:1548: ConvergenceWarning: Maximum number of iteration reached before convergence. Consider increasing max_iter to improve the fit.\n",
      "  warnings.warn(\n",
      "/opt/homebrew/lib/python3.11/site-packages/sklearn/linear_model/_stochastic_gradient.py:1548: ConvergenceWarning: Maximum number of iteration reached before convergence. Consider increasing max_iter to improve the fit.\n",
      "  warnings.warn(\n",
      "/opt/homebrew/lib/python3.11/site-packages/sklearn/linear_model/_stochastic_gradient.py:1548: ConvergenceWarning: Maximum number of iteration reached before convergence. Consider increasing max_iter to improve the fit.\n",
      "  warnings.warn(\n",
      "/opt/homebrew/lib/python3.11/site-packages/sklearn/linear_model/_stochastic_gradient.py:1548: ConvergenceWarning: Maximum number of iteration reached before convergence. Consider increasing max_iter to improve the fit.\n",
      "  warnings.warn(\n",
      "/opt/homebrew/lib/python3.11/site-packages/sklearn/linear_model/_stochastic_gradient.py:1548: ConvergenceWarning: Maximum number of iteration reached before convergence. Consider increasing max_iter to improve the fit.\n",
      "  warnings.warn(\n",
      "/opt/homebrew/lib/python3.11/site-packages/sklearn/linear_model/_stochastic_gradient.py:1548: ConvergenceWarning: Maximum number of iteration reached before convergence. Consider increasing max_iter to improve the fit.\n",
      "  warnings.warn(\n",
      "/opt/homebrew/lib/python3.11/site-packages/sklearn/linear_model/_stochastic_gradient.py:1548: ConvergenceWarning: Maximum number of iteration reached before convergence. Consider increasing max_iter to improve the fit.\n",
      "  warnings.warn(\n",
      "/opt/homebrew/lib/python3.11/site-packages/sklearn/linear_model/_stochastic_gradient.py:1548: ConvergenceWarning: Maximum number of iteration reached before convergence. Consider increasing max_iter to improve the fit.\n",
      "  warnings.warn(\n",
      "/opt/homebrew/lib/python3.11/site-packages/sklearn/linear_model/_stochastic_gradient.py:1548: ConvergenceWarning: Maximum number of iteration reached before convergence. Consider increasing max_iter to improve the fit.\n",
      "  warnings.warn(\n"
     ]
    }
   ],
   "source": [
    "# Import necessary libraries\n",
    "import pandas as pd\n",
    "from sklearn.linear_model import SGDRegressor\n",
    "from sklearn.model_selection import  GridSearchCV\n",
    "# Define the hyperparameters to tune\n",
    "params = {\n",
    "    'learning_rate': ['constant', 'optimal', 'invscaling'],\n",
    "    'penalty': ['l1', 'l2', 'elasticnet'],\n",
    "    'alpha': [0.0001,0.001,0.01,0.1]\n",
    "   \n",
    "}\n",
    "# Use GridSearchCV to tune the hyperparameters\n",
    "grid = GridSearchCV(sgd, params, cv=5)\n",
    "grid.fit(X_train, y_train)\n",
    "\n",
    "# Print the best hyperparameters\n",
    "print(grid.best_params_)\n",
    "\n",
    "# Use the best hyperparameters to train the model\n",
    "sgd = SGDRegressor(**grid.best_params_)\n",
    "sgd.fit(X_train, y_train)\n",
    "\n",
    "# Evaluate the model on the testing set\n",
    "y_pred = sgd.predict(X_test)\n",
    "mse = mean_squared_error(y_test, y_pred)\n",
    "sgd_r3 = r2_score(y_test, y_pred)\n",
    "print(f\"Mean squared error = {mse}\")\n",
    "print(f\"R2 = {round(sgd_r3*100)} % \")"
   ]
  },
  {
   "cell_type": "code",
   "execution_count": 85,
   "id": "5ab2dc12",
   "metadata": {},
   "outputs": [
    {
     "data": {
      "text/plain": [
       "Index(['Length1', 'Length2', 'Length3', 'Height', 'Width', 'Species_Bream',\n",
       "       'Species_Parkki', 'Species_Perch', 'Species_Pike', 'Species_Roach',\n",
       "       'Species_Smelt', 'Species_Whitefish'],\n",
       "      dtype='object')"
      ]
     },
     "execution_count": 85,
     "metadata": {},
     "output_type": "execute_result"
    }
   ],
   "source": [
    "df.drop(['Weight', 'species_encoded'],axis=1).columns"
   ]
  },
  {
   "attachments": {},
   "cell_type": "markdown",
   "id": "86f9d9ad",
   "metadata": {
    "papermill": {
     "duration": 0.054749,
     "end_time": "2023-06-01T21:42:31.149814",
     "exception": false,
     "start_time": "2023-06-01T21:42:31.095065",
     "status": "completed"
    },
    "tags": []
   },
   "source": [
    "**15.Saving Model And Predict weight**"
   ]
  },
  {
   "cell_type": "code",
   "execution_count": 86,
   "id": "dfb13b61",
   "metadata": {
    "execution": {
     "iopub.execute_input": "2023-06-01T21:42:31.208237Z",
     "iopub.status.busy": "2023-06-01T21:42:31.207873Z",
     "iopub.status.idle": "2023-06-01T21:42:31.277532Z",
     "shell.execute_reply": "2023-06-01T21:42:31.276121Z"
    },
    "id": "ejNKfP7L5idV",
    "outputId": "7cfc827d-9c20-4020-c0bd-a50d553a5d65",
    "papermill": {
     "duration": 0.10152,
     "end_time": "2023-06-01T21:42:31.280125",
     "exception": false,
     "start_time": "2023-06-01T21:42:31.178605",
     "status": "completed"
    },
    "tags": []
   },
   "outputs": [
    {
     "name": "stdout",
     "output_type": "stream",
     "text": [
      "The predicted  weight =  [7104.16711523] g\n"
     ]
    }
   ],
   "source": [
    "import pickle\n",
    "from numpy.ma.core import floor\n",
    "# Model\n",
    "sgd = SGDRegressor()\n",
    "sgd.fit(X_train, y_train)\n",
    "\n",
    "# Prediction\n",
    "pickle.dump(sgd,open('./data/fish_model_random.pkl','wb'))\n",
    "\n",
    "model = pickle.load(open('./data/fish_model_random.pkl','rb'))\n",
    "\n",
    "x=model.predict([[20, 20, 20, 5 , 5, 0, 0, 0,\t0, 0, 1, 0]])\n",
    "print(\"The predicted  weight = \",x,\"g\")"
   ]
  },
  {
   "cell_type": "code",
   "execution_count": 87,
   "id": "c6190cf9",
   "metadata": {
    "execution": {
     "iopub.execute_input": "2023-06-01T21:42:31.338470Z",
     "iopub.status.busy": "2023-06-01T21:42:31.337469Z",
     "iopub.status.idle": "2023-06-01T21:42:49.393675Z",
     "shell.execute_reply": "2023-06-01T21:42:49.392346Z"
    },
    "id": "RFp94zyeGfCb",
    "outputId": "7c051fd4-e8fe-41b8-ee47-af004327dc57",
    "papermill": {
     "duration": 18.087986,
     "end_time": "2023-06-01T21:42:49.396158",
     "exception": false,
     "start_time": "2023-06-01T21:42:31.308172",
     "status": "completed"
    },
    "tags": []
   },
   "outputs": [
    {
     "name": "stdout",
     "output_type": "stream",
     "text": [
      "95.10244146497944 %\n"
     ]
    }
   ],
   "source": [
    "from sklearn.ensemble import RandomForestRegressor\n",
    "\n",
    "rfg_model = RandomForestRegressor()\n",
    "rfg_model.fit(X_train, y_train)\n",
    "\n",
    "print(rfg_model.score(X_test, y_test)*100,\"%\")"
   ]
  },
  {
   "attachments": {},
   "cell_type": "markdown",
   "id": "0d302815",
   "metadata": {},
   "source": [
    "# **Task 2**"
   ]
  },
  {
   "attachments": {},
   "cell_type": "markdown",
   "id": "5a1b247a",
   "metadata": {},
   "source": [
    "5. **Change the training-test split setting, with the 70/30 principle for each species. That means, in any of the species, there needs to be 70% of the sample in the training set, and 30% of the sample in the test set.**"
   ]
  },
  {
   "cell_type": "code",
   "execution_count": 88,
   "id": "d10f6d32",
   "metadata": {},
   "outputs": [],
   "source": [
    "df = df_encoded.copy()"
   ]
  },
  {
   "cell_type": "code",
   "execution_count": 89,
   "id": "f4a3cdd5",
   "metadata": {},
   "outputs": [],
   "source": [
    "X = df.drop(['Weight', 'species_encoded'],axis=1) #test data \n",
    "\n",
    "y = df['Weight']"
   ]
  },
  {
   "cell_type": "code",
   "execution_count": 90,
   "id": "5a3d8f81",
   "metadata": {},
   "outputs": [],
   "source": [
    "# Sort for each species\n",
    "X_Bream = df[df['Species_Bream']]\n",
    "X_Parkki = df[df['Species_Parkki']]\n",
    "X_Perch = df[df['Species_Perch']]\n",
    "X_Pike = df[df['Species_Pike']]\n",
    "X_Roach = df[df['Species_Roach']]\n",
    "X_Smelt = df[df['Species_Smelt']]\n",
    "X_Whitefish = df[df['Species_Whitefish']]\n",
    "\n"
   ]
  },
  {
   "cell_type": "code",
   "execution_count": 91,
   "id": "c246492b",
   "metadata": {},
   "outputs": [],
   "source": [
    "from sklearn.model_selection import train_test_split\n",
    "\n",
    "\n",
    "# Sort for each species\n",
    "Bream = df[df['Species_Bream']]\n",
    "Parkki = df[df['Species_Parkki']]\n",
    "Perch = df[df['Species_Perch']]\n",
    "Pike = df[df['Species_Pike']]\n",
    "Roach = df[df['Species_Roach']]\n",
    "Smelt = df[df['Species_Smelt']]\n",
    "Whitefish = df[df['Species_Whitefish']]\n",
    "\n",
    "new_dfs = [Parkki, Perch, Pike, Roach, Smelt, Whitefish]\n",
    "\n",
    "X = Bream.drop(['Weight', 'species_encoded'],axis=1)  \n",
    "y = Bream['Weight']\n",
    "x_train_sum,x_test_sum,y_train_sum,y_test_sum=train_test_split(X,y,test_size=0.3, random_state=2)\n",
    "\n",
    "\n",
    "for new_df in new_dfs:\n",
    "    X = new_df.drop(['Weight', 'species_encoded'],axis=1)  \n",
    "    y = new_df['Weight']\n",
    "    x_train,x_test,y_train,y_test=train_test_split(X,y,test_size=0.3, random_state=2)\n",
    "    \n",
    "    x_train_sum = x_train_sum.merge(x_train)\n",
    "    x_test_sum = x_test_sum.merge(x_test)\n",
    "    y_train_sum = pd.concat([y_train_sum, y_train])\n",
    "    y_test_sum = pd.concat([y_test_sum, y_test])\n"
   ]
  },
  {
   "attachments": {},
   "cell_type": "markdown",
   "id": "5935318c",
   "metadata": {},
   "source": [
    "> I just do not get to combine the split dataset. It is simply not possible, because I do not find out what kind of datattype/format the train_test_split returns. Very frustrating :( "
   ]
  },
  {
   "cell_type": "code",
   "execution_count": 92,
   "id": "6ccca9cb",
   "metadata": {},
   "outputs": [
    {
     "data": {
      "text/plain": [
       "59    800.0\n",
       "56    270.0\n",
       "Name: Weight, dtype: float64"
      ]
     },
     "execution_count": 92,
     "metadata": {},
     "output_type": "execute_result"
    }
   ],
   "source": [
    "y_test"
   ]
  },
  {
   "cell_type": "code",
   "execution_count": 93,
   "id": "fa5467cb",
   "metadata": {},
   "outputs": [
    {
     "name": "stdout",
     "output_type": "stream",
     "text": [
      "<class 'pandas.core.series.Series'>\n",
      "<class 'pandas.core.series.Series'>\n"
     ]
    }
   ],
   "source": [
    "print(type(y_test))\n",
    "print(type(y_test_sum))"
   ]
  },
  {
   "attachments": {},
   "cell_type": "markdown",
   "id": "2cd95666",
   "metadata": {},
   "source": [
    "> It first seems right but then..."
   ]
  },
  {
   "cell_type": "code",
   "execution_count": 94,
   "id": "79caaf41",
   "metadata": {},
   "outputs": [],
   "source": [
    "x_train = x_train_sum\n",
    "x_test = x_test_sum\n",
    "y_train = y_train_sum\n",
    "y_test = y_test_sum"
   ]
  },
  {
   "cell_type": "code",
   "execution_count": 95,
   "id": "8374a870",
   "metadata": {},
   "outputs": [
    {
     "data": {
      "text/html": [
       "<div>\n",
       "<style scoped>\n",
       "    .dataframe tbody tr th:only-of-type {\n",
       "        vertical-align: middle;\n",
       "    }\n",
       "\n",
       "    .dataframe tbody tr th {\n",
       "        vertical-align: top;\n",
       "    }\n",
       "\n",
       "    .dataframe thead th {\n",
       "        text-align: right;\n",
       "    }\n",
       "</style>\n",
       "<table border=\"1\" class=\"dataframe\">\n",
       "  <thead>\n",
       "    <tr style=\"text-align: right;\">\n",
       "      <th></th>\n",
       "      <th>Length1</th>\n",
       "      <th>Length2</th>\n",
       "      <th>Length3</th>\n",
       "      <th>Height</th>\n",
       "      <th>Width</th>\n",
       "      <th>Species_Bream</th>\n",
       "      <th>Species_Parkki</th>\n",
       "      <th>Species_Perch</th>\n",
       "      <th>Species_Pike</th>\n",
       "      <th>Species_Roach</th>\n",
       "      <th>Species_Smelt</th>\n",
       "      <th>Species_Whitefish</th>\n",
       "    </tr>\n",
       "  </thead>\n",
       "  <tbody>\n",
       "  </tbody>\n",
       "</table>\n",
       "</div>"
      ],
      "text/plain": [
       "Empty DataFrame\n",
       "Columns: [Length1, Length2, Length3, Height, Width, Species_Bream, Species_Parkki, Species_Perch, Species_Pike, Species_Roach, Species_Smelt, Species_Whitefish]\n",
       "Index: []"
      ]
     },
     "execution_count": 95,
     "metadata": {},
     "output_type": "execute_result"
    }
   ],
   "source": [
    "x_train"
   ]
  },
  {
   "cell_type": "code",
   "execution_count": 96,
   "id": "e359d980",
   "metadata": {},
   "outputs": [
    {
     "name": "stdout",
     "output_type": "stream",
     "text": [
      "Test Data =  (0, 12)\n",
      "Train Data =  (0, 12)\n",
      "Target Train =  (108,)\n",
      "Target Test =  (51,)\n"
     ]
    }
   ],
   "source": [
    "print(\"Test Data = \",x_test_sum.shape)\n",
    "print(\"Train Data = \",x_train.shape)\n",
    "print(\"Target Train = \",y_train.shape)\n",
    "print(\"Target Test = \",y_test.shape)"
   ]
  },
  {
   "attachments": {},
   "cell_type": "markdown",
   "id": "b8889d72",
   "metadata": {},
   "source": [
    "> ... it does not contain any data"
   ]
  }
 ],
 "metadata": {
  "kernelspec": {
   "display_name": "Python 3",
   "language": "python",
   "name": "python3"
  },
  "language_info": {
   "codemirror_mode": {
    "name": "ipython",
    "version": 3
   },
   "file_extension": ".py",
   "mimetype": "text/x-python",
   "name": "python",
   "nbconvert_exporter": "python",
   "pygments_lexer": "ipython3",
   "version": "3.11.3"
  },
  "papermill": {
   "default_parameters": {},
   "duration": 67.162125,
   "end_time": "2023-06-01T21:42:50.503477",
   "environment_variables": {},
   "exception": null,
   "input_path": "__notebook__.ipynb",
   "output_path": "__notebook__.ipynb",
   "parameters": {},
   "start_time": "2023-06-01T21:41:43.341352",
   "version": "2.4.0"
  }
 },
 "nbformat": 4,
 "nbformat_minor": 5
}
