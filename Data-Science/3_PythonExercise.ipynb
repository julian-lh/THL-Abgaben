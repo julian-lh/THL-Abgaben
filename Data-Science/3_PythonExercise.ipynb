{
 "cells": [
  {
   "attachments": {},
   "cell_type": "markdown",
   "metadata": {},
   "source": [
    "# Python Exercise\n",
    "## No 1"
   ]
  },
  {
   "attachments": {},
   "cell_type": "markdown",
   "metadata": {},
   "source": [
    "The following solution seems quite a bit more complicated than it should. However, I just wanted to make sure that I have a very different solution than the ChatGTP one. \n",
    "Under normal conditions I would prefer some version of ChatGTP's solution as it is easy to understand and more time efficient than the following one."
   ]
  },
  {
   "cell_type": "code",
   "execution_count": 52,
   "metadata": {},
   "outputs": [],
   "source": [
    "def count_letter(letters):\n",
    "    if type(letters) != str:\n",
    "        raise TypeError(\"Argument is not a string\")\n",
    "    \n",
    "    # Using a Set() to filter duplicates\n",
    "    letter_list = list(letters.lower())\n",
    "    letter_set = set(filter(lambda x: x.isalpha(),letter_list))\n",
    "\n",
    "    letter_dict = dict.fromkeys(letter_set)\n",
    "    res = {char: letter_list.count(char) for char in letter_set}\n",
    "    \n",
    "    print(res)"
   ]
  },
  {
   "cell_type": "code",
   "execution_count": 53,
   "metadata": {},
   "outputs": [
    {
     "name": "stdout",
     "output_type": "stream",
     "text": [
      "CPU times: user 1 µs, sys: 1 µs, total: 2 µs\n",
      "Wall time: 3.81 µs\n",
      "{'i': 3, 'h': 2, 'ß': 1, 'e': 3, 'c': 1, 'w': 1}\n"
     ]
    }
   ],
   "source": [
    "%time\n",
    "a = \"Ich heiße Wei\"\n",
    "count_letter(a)"
   ]
  },
  {
   "attachments": {},
   "cell_type": "markdown",
   "metadata": {},
   "source": [
    "Throwing an error for wrong input types:"
   ]
  },
  {
   "cell_type": "code",
   "execution_count": 55,
   "metadata": {},
   "outputs": [
    {
     "ename": "TypeError",
     "evalue": "Argument is not a string",
     "output_type": "error",
     "traceback": [
      "\u001b[0;31m---------------------------------------------------------------------------\u001b[0m",
      "\u001b[0;31mTypeError\u001b[0m                                 Traceback (most recent call last)",
      "Cell \u001b[0;32mIn[55], line 2\u001b[0m\n\u001b[1;32m      1\u001b[0m b \u001b[39m=\u001b[39m \u001b[39m15\u001b[39m\n\u001b[0;32m----> 2\u001b[0m count_letter(b)\n",
      "Cell \u001b[0;32mIn[52], line 3\u001b[0m, in \u001b[0;36mcount_letter\u001b[0;34m(letters)\u001b[0m\n\u001b[1;32m      1\u001b[0m \u001b[39mdef\u001b[39;00m \u001b[39mcount_letter\u001b[39m(letters):\n\u001b[1;32m      2\u001b[0m     \u001b[39mif\u001b[39;00m \u001b[39mtype\u001b[39m(letters) \u001b[39m!=\u001b[39m \u001b[39mstr\u001b[39m:\n\u001b[0;32m----> 3\u001b[0m         \u001b[39mraise\u001b[39;00m \u001b[39mTypeError\u001b[39;00m(\u001b[39m\"\u001b[39m\u001b[39mArgument is not a string\u001b[39m\u001b[39m\"\u001b[39m)\n\u001b[1;32m      5\u001b[0m     \u001b[39m# Using a Set() to filter duplicates\u001b[39;00m\n\u001b[1;32m      6\u001b[0m     letter_list \u001b[39m=\u001b[39m \u001b[39mlist\u001b[39m(letters\u001b[39m.\u001b[39mlower())\n",
      "\u001b[0;31mTypeError\u001b[0m: Argument is not a string"
     ]
    }
   ],
   "source": [
    "b = 15\n",
    "count_letter(b)"
   ]
  },
  {
   "attachments": {},
   "cell_type": "markdown",
   "metadata": {},
   "source": [
    "## No 2"
   ]
  },
  {
   "cell_type": "code",
   "execution_count": 57,
   "metadata": {},
   "outputs": [
    {
     "name": "stdout",
     "output_type": "stream",
     "text": [
      "[5, 4, 3, 2, 1]\n",
      "[5, 4]\n"
     ]
    }
   ],
   "source": [
    "numbers = [1,2,3,4,5]\n",
    "print(numbers [::-1])\n",
    "print(numbers [4:2:-1])"
   ]
  },
  {
   "attachments": {},
   "cell_type": "markdown",
   "metadata": {},
   "source": [
    "**Explanation of the result:**\n",
    "In our array[x:y:z] the slicing "
   ]
  },
  {
   "cell_type": "code",
   "execution_count": null,
   "metadata": {},
   "outputs": [],
   "source": []
  }
 ],
 "metadata": {
  "kernelspec": {
   "display_name": "Python 3",
   "language": "python",
   "name": "python3"
  },
  "language_info": {
   "codemirror_mode": {
    "name": "ipython",
    "version": 3
   },
   "file_extension": ".py",
   "mimetype": "text/x-python",
   "name": "python",
   "nbconvert_exporter": "python",
   "pygments_lexer": "ipython3",
   "version": "3.10.11"
  },
  "orig_nbformat": 4
 },
 "nbformat": 4,
 "nbformat_minor": 2
}
